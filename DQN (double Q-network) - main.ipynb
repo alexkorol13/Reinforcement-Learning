{
 "cells": [
  {
   "cell_type": "markdown",
   "metadata": {
    "id": "1NDjJiqysoT-"
   },
   "source": [
    "# Deep Q-Network implementation.\n",
    "\n",
    "This homework shamelessly demands you to implement DQN — an approximate Q-learning algorithm with experience replay and target networks — and see if it works any better this way.\n",
    "\n",
    "Original paper:\n",
    "https://arxiv.org/pdf/1312.5602.pdf"
   ]
  },
  {
   "cell_type": "markdown",
   "metadata": {
    "id": "BcLhaXMKsoT_"
   },
   "source": [
    "**This notebook is the main notebook.** Another notebook is given for debug. (**homework_pytorch_debug**). The tasks are similar and share most of the code. The main difference is in environments. In main notebook it can take some 2 hours for the agent to start improving so it seems reasonable to launch the algorithm on a simpler env first. In debug one it is CartPole and it will train in several minutes.\n",
    "\n",
    "**We suggest the following pipeline:** First implement debug notebook then implement the main one.\n",
    "\n",
    "**About evaluation:** All points are given for the main notebook with one exception: if agent fails to beat the threshold in main notebook you can get 1 pt (instead of 3 pts) for beating the threshold in debug notebook."
   ]
  },
  {
   "cell_type": "markdown",
   "metadata": {
    "id": "jkAckSjWjJdd"
   },
   "source": [
    "## Реализованные части домашнего задания:\n",
    "- Preprocessing (3 pts)\n",
    "- DQN implementation (4 pts)\n",
    "- Double DQN (2 pts)\n",
    "- Dueling DQN (2 pts)\n",
    "- Noisy Net (3 pts)\n",
    "- Main Loop (3 pts)\n",
    "\n",
    "Реализованная модель обучена и набрала в игре больше необходимого порога в 15 очков за 5 жизней."
   ]
  },
  {
   "cell_type": "code",
   "execution_count": 1,
   "metadata": {
    "colab": {
     "base_uri": "https://localhost:8080/"
    },
    "id": "IVo0UxTWsoT_",
    "outputId": "a636f683-a989-4e15-b08c-391e78dc5365"
   },
   "outputs": [
    {
     "name": "stdout",
     "output_type": "stream",
     "text": [
      "Selecting previously unselected package libfontenc1:amd64.\n",
      "(Reading database ... 120874 files and directories currently installed.)\n",
      "Preparing to unpack .../0-libfontenc1_1%3a1.1.4-1build3_amd64.deb ...\n",
      "Unpacking libfontenc1:amd64 (1:1.1.4-1build3) ...\n",
      "Selecting previously unselected package libxfont2:amd64.\n",
      "Preparing to unpack .../1-libxfont2_1%3a2.0.5-1build1_amd64.deb ...\n",
      "Unpacking libxfont2:amd64 (1:2.0.5-1build1) ...\n",
      "Selecting previously unselected package libxkbfile1:amd64.\n",
      "Preparing to unpack .../2-libxkbfile1_1%3a1.1.0-1build3_amd64.deb ...\n",
      "Unpacking libxkbfile1:amd64 (1:1.1.0-1build3) ...\n",
      "Selecting previously unselected package x11-xkb-utils.\n",
      "Preparing to unpack .../3-x11-xkb-utils_7.7+5build4_amd64.deb ...\n",
      "Unpacking x11-xkb-utils (7.7+5build4) ...\n",
      "Selecting previously unselected package xfonts-encodings.\n",
      "Preparing to unpack .../4-xfonts-encodings_1%3a1.0.5-0ubuntu2_all.deb ...\n",
      "Unpacking xfonts-encodings (1:1.0.5-0ubuntu2) ...\n",
      "Selecting previously unselected package xfonts-utils.\n",
      "Preparing to unpack .../5-xfonts-utils_1%3a7.7+6build2_amd64.deb ...\n",
      "Unpacking xfonts-utils (1:7.7+6build2) ...\n",
      "Selecting previously unselected package xfonts-base.\n",
      "Preparing to unpack .../6-xfonts-base_1%3a1.0.5_all.deb ...\n",
      "Unpacking xfonts-base (1:1.0.5) ...\n",
      "Selecting previously unselected package xserver-common.\n",
      "Preparing to unpack .../7-xserver-common_2%3a21.1.4-2ubuntu1.7~22.04.2_all.deb ...\n",
      "Unpacking xserver-common (2:21.1.4-2ubuntu1.7~22.04.2) ...\n",
      "Selecting previously unselected package xvfb.\n",
      "Preparing to unpack .../8-xvfb_2%3a21.1.4-2ubuntu1.7~22.04.2_amd64.deb ...\n",
      "Unpacking xvfb (2:21.1.4-2ubuntu1.7~22.04.2) ...\n",
      "Setting up libfontenc1:amd64 (1:1.1.4-1build3) ...\n",
      "Setting up xfonts-encodings (1:1.0.5-0ubuntu2) ...\n",
      "Setting up libxkbfile1:amd64 (1:1.1.0-1build3) ...\n",
      "Setting up libxfont2:amd64 (1:2.0.5-1build1) ...\n",
      "Setting up x11-xkb-utils (7.7+5build4) ...\n",
      "Setting up xfonts-utils (1:7.7+6build2) ...\n",
      "Setting up xfonts-base (1:1.0.5) ...\n",
      "Setting up xserver-common (2:21.1.4-2ubuntu1.7~22.04.2) ...\n",
      "Setting up xvfb (2:21.1.4-2ubuntu1.7~22.04.2) ...\n",
      "Processing triggers for man-db (2.10.2-1) ...\n",
      "Processing triggers for fontconfig (2.13.1-4.2ubuntu5) ...\n",
      "Processing triggers for libc-bin (2.35-0ubuntu3.1) ...\n",
      "/sbin/ldconfig.real: /usr/local/lib/libtbbmalloc.so.2 is not a symbolic link\n",
      "\n",
      "/sbin/ldconfig.real: /usr/local/lib/libtbbbind.so.3 is not a symbolic link\n",
      "\n",
      "/sbin/ldconfig.real: /usr/local/lib/libtbbmalloc_proxy.so.2 is not a symbolic link\n",
      "\n",
      "/sbin/ldconfig.real: /usr/local/lib/libtbbbind_2_5.so.3 is not a symbolic link\n",
      "\n",
      "/sbin/ldconfig.real: /usr/local/lib/libtbb.so.12 is not a symbolic link\n",
      "\n",
      "/sbin/ldconfig.real: /usr/local/lib/libtbbbind_2_0.so.3 is not a symbolic link\n",
      "\n",
      "Starting virtual X frame buffer: Xvfb.\n"
     ]
    }
   ],
   "source": [
    "import sys, os\n",
    "if 'google.colab' in sys.modules and not os.path.exists('.setup_complete'):\n",
    "    !wget -q https://raw.githubusercontent.com/yandexdataschool/Practical_RL/master/setup_colab.sh -O- | bash\n",
    "\n",
    "    !wget -q https://raw.githubusercontent.com/yandexdataschool/Practical_RL/master/week04_approx_rl/atari_wrappers.py\n",
    "    !wget -q https://raw.githubusercontent.com/yandexdataschool/Practical_RL/master/week04_approx_rl/utils.py\n",
    "    !wget -q https://raw.githubusercontent.com/yandexdataschool/Practical_RL/master/week04_approx_rl/replay_buffer.py\n",
    "    !wget -q https://raw.githubusercontent.com/yandexdataschool/Practical_RL/master/week04_approx_rl/framebuffer.py\n",
    "\n",
    "    !touch .setup_complete\n",
    "\n",
    "# This code creates a virtual display to draw game images on.\n",
    "# It will have no effect if your machine has a monitor.\n",
    "if type(os.environ.get(\"DISPLAY\")) is not str or len(os.environ.get(\"DISPLAY\")) == 0:\n",
    "    !bash ../xvfb start\n",
    "    os.environ['DISPLAY'] = ':1'"
   ]
  },
  {
   "cell_type": "markdown",
   "metadata": {
    "id": "KkrBeP7YsoUA"
   },
   "source": [
    "__Frameworks__ - we'll accept this homework in any deep learning framework. This particular notebook was designed for PyTorch, but you find it easy to adapt it to almost any Python-based deep learning framework."
   ]
  },
  {
   "cell_type": "code",
   "execution_count": 2,
   "metadata": {
    "colab": {
     "base_uri": "https://localhost:8080/"
    },
    "id": "0ABRgp2-sq5a",
    "outputId": "19c94ab2-ff52-4f2f-eda0-305e4d449947"
   },
   "outputs": [
    {
     "name": "stdout",
     "output_type": "stream",
     "text": [
      "Collecting gymnasium[accept-rom-license,atari]\n",
      "  Downloading gymnasium-0.29.1-py3-none-any.whl (953 kB)\n",
      "\u001b[2K     \u001b[90m━━━━━━━━━━━━━━━━━━━━━━━━━━━━━━━━━━━━━━━━\u001b[0m \u001b[32m953.9/953.9 kB\u001b[0m \u001b[31m10.0 MB/s\u001b[0m eta \u001b[36m0:00:00\u001b[0m\n",
      "\u001b[?25hRequirement already satisfied: numpy>=1.21.0 in /usr/local/lib/python3.10/dist-packages (from gymnasium[accept-rom-license,atari]) (1.23.5)\n",
      "Requirement already satisfied: cloudpickle>=1.2.0 in /usr/local/lib/python3.10/dist-packages (from gymnasium[accept-rom-license,atari]) (2.2.1)\n",
      "Requirement already satisfied: typing-extensions>=4.3.0 in /usr/local/lib/python3.10/dist-packages (from gymnasium[accept-rom-license,atari]) (4.5.0)\n",
      "Collecting farama-notifications>=0.0.1 (from gymnasium[accept-rom-license,atari])\n",
      "  Downloading Farama_Notifications-0.0.4-py3-none-any.whl (2.5 kB)\n",
      "Collecting shimmy[atari]<1.0,>=0.1.0 (from gymnasium[accept-rom-license,atari])\n",
      "  Downloading Shimmy-0.2.1-py3-none-any.whl (25 kB)\n",
      "Collecting autorom[accept-rom-license]~=0.4.2 (from gymnasium[accept-rom-license,atari])\n",
      "  Downloading AutoROM-0.4.2-py3-none-any.whl (16 kB)\n",
      "Requirement already satisfied: click in /usr/local/lib/python3.10/dist-packages (from autorom[accept-rom-license]~=0.4.2->gymnasium[accept-rom-license,atari]) (8.1.7)\n",
      "Requirement already satisfied: requests in /usr/local/lib/python3.10/dist-packages (from autorom[accept-rom-license]~=0.4.2->gymnasium[accept-rom-license,atari]) (2.31.0)\n",
      "Requirement already satisfied: tqdm in /usr/local/lib/python3.10/dist-packages (from autorom[accept-rom-license]~=0.4.2->gymnasium[accept-rom-license,atari]) (4.66.1)\n",
      "Collecting AutoROM.accept-rom-license (from autorom[accept-rom-license]~=0.4.2->gymnasium[accept-rom-license,atari])\n",
      "  Downloading AutoROM.accept-rom-license-0.6.1.tar.gz (434 kB)\n",
      "\u001b[2K     \u001b[90m━━━━━━━━━━━━━━━━━━━━━━━━━━━━━━━━━━━━━━━━\u001b[0m \u001b[32m434.7/434.7 kB\u001b[0m \u001b[31m14.2 MB/s\u001b[0m eta \u001b[36m0:00:00\u001b[0m\n",
      "\u001b[?25h  Installing build dependencies ... \u001b[?25l\u001b[?25hdone\n",
      "  Getting requirements to build wheel ... \u001b[?25l\u001b[?25hdone\n",
      "  Preparing metadata (pyproject.toml) ... \u001b[?25l\u001b[?25hdone\n",
      "Collecting ale-py~=0.8.1 (from shimmy[atari]<1.0,>=0.1.0->gymnasium[accept-rom-license,atari])\n",
      "  Downloading ale_py-0.8.1-cp310-cp310-manylinux_2_17_x86_64.manylinux2014_x86_64.whl (1.7 MB)\n",
      "\u001b[2K     \u001b[90m━━━━━━━━━━━━━━━━━━━━━━━━━━━━━━━━━━━━━━━━\u001b[0m \u001b[32m1.7/1.7 MB\u001b[0m \u001b[31m14.8 MB/s\u001b[0m eta \u001b[36m0:00:00\u001b[0m\n",
      "\u001b[?25hRequirement already satisfied: importlib-resources in /usr/local/lib/python3.10/dist-packages (from ale-py~=0.8.1->shimmy[atari]<1.0,>=0.1.0->gymnasium[accept-rom-license,atari]) (6.1.0)\n",
      "Requirement already satisfied: charset-normalizer<4,>=2 in /usr/local/lib/python3.10/dist-packages (from requests->autorom[accept-rom-license]~=0.4.2->gymnasium[accept-rom-license,atari]) (3.3.1)\n",
      "Requirement already satisfied: idna<4,>=2.5 in /usr/local/lib/python3.10/dist-packages (from requests->autorom[accept-rom-license]~=0.4.2->gymnasium[accept-rom-license,atari]) (3.4)\n",
      "Requirement already satisfied: urllib3<3,>=1.21.1 in /usr/local/lib/python3.10/dist-packages (from requests->autorom[accept-rom-license]~=0.4.2->gymnasium[accept-rom-license,atari]) (2.0.7)\n",
      "Requirement already satisfied: certifi>=2017.4.17 in /usr/local/lib/python3.10/dist-packages (from requests->autorom[accept-rom-license]~=0.4.2->gymnasium[accept-rom-license,atari]) (2023.7.22)\n",
      "Building wheels for collected packages: AutoROM.accept-rom-license\n",
      "  Building wheel for AutoROM.accept-rom-license (pyproject.toml) ... \u001b[?25l\u001b[?25hdone\n",
      "  Created wheel for AutoROM.accept-rom-license: filename=AutoROM.accept_rom_license-0.6.1-py3-none-any.whl size=446660 sha256=0b2fd7d8c5372ad9797240e165281a2d5e02c04b5c4c5beb2cfc02a4eef51758\n",
      "  Stored in directory: /root/.cache/pip/wheels/6b/1b/ef/a43ff1a2f1736d5711faa1ba4c1f61be1131b8899e6a057811\n",
      "Successfully built AutoROM.accept-rom-license\n",
      "Installing collected packages: farama-notifications, gymnasium, ale-py, shimmy, AutoROM.accept-rom-license, autorom\n",
      "Successfully installed AutoROM.accept-rom-license-0.6.1 ale-py-0.8.1 autorom-0.4.2 farama-notifications-0.0.4 gymnasium-0.29.1 shimmy-0.2.1\n"
     ]
    }
   ],
   "source": [
    "!pip install gymnasium[atari,accept-rom-license]"
   ]
  },
  {
   "cell_type": "code",
   "execution_count": 3,
   "metadata": {
    "id": "XauE94NisoUA"
   },
   "outputs": [],
   "source": [
    "import random\n",
    "import numpy as np\n",
    "import torch\n",
    "import utils"
   ]
  },
  {
   "cell_type": "code",
   "execution_count": 4,
   "metadata": {
    "id": "P8WoWe9DsoUA"
   },
   "outputs": [],
   "source": [
    "import gymnasium as gym\n",
    "import numpy as np\n",
    "import matplotlib.pyplot as plt\n",
    "%matplotlib inline"
   ]
  },
  {
   "cell_type": "markdown",
   "metadata": {
    "id": "6GQBgViKsoUA"
   },
   "source": [
    "### Let's play some old videogames\n",
    "![img](https://github.com/yandexdataschool/Practical_RL/raw/master/yet_another_week/_resource/nerd.png)\n",
    "\n",
    "This time we're gonna apply approximate Q-learning to an Atari game called Breakout. It's not the hardest thing out there, but it's definitely way more complex than anything we tried before.\n"
   ]
  },
  {
   "cell_type": "code",
   "execution_count": 5,
   "metadata": {
    "colab": {
     "base_uri": "https://localhost:8080/"
    },
    "id": "S_zvw_31soUA",
    "outputId": "51ca6fff-ac3f-4e2c-fae1-7925888720e3"
   },
   "outputs": [
    {
     "name": "stderr",
     "output_type": "stream",
     "text": [
      "/usr/local/lib/python3.10/dist-packages/ipykernel/ipkernel.py:283: DeprecationWarning: `should_run_async` will not call `transform_cell` automatically in the future. Please pass the result to `transformed_cell` argument and any exception that happen during thetransform in `preprocessing_exc_tuple` in IPython 7.17 and above.\n",
      "  and should_run_async(code)\n"
     ]
    }
   ],
   "source": [
    "ENV_NAME = \"BreakoutNoFrameskip-v4\""
   ]
  },
  {
   "cell_type": "markdown",
   "metadata": {
    "id": "xT9BvasNsoUA"
   },
   "source": [
    "## Preprocessing (3 pts)"
   ]
  },
  {
   "cell_type": "markdown",
   "metadata": {
    "id": "iwN8jA0OsoUA"
   },
   "source": [
    "Let's see what observations look like."
   ]
  },
  {
   "cell_type": "code",
   "execution_count": 6,
   "metadata": {
    "colab": {
     "base_uri": "https://localhost:8080/",
     "height": 540
    },
    "id": "rUZHU2HdsoUB",
    "outputId": "1b1c964d-7b84-43ad-f918-ec77f6afe18b"
   },
   "outputs": [
    {
     "name": "stderr",
     "output_type": "stream",
     "text": [
      "/usr/local/lib/python3.10/dist-packages/gymnasium/utils/passive_env_checker.py:335: UserWarning: \u001b[33mWARN: No render fps was declared in the environment (env.metadata['render_fps'] is None or not defined), rendering may occur at inconsistent fps.\u001b[0m\n",
      "  logger.warn(\n"
     ]
    },
    {
     "data": {
      "image/png": "[encoded data removed]",
      "text/plain": [
       "<Figure size 1600x900 with 10 Axes>"
      ]
     },
     "metadata": {},
     "output_type": "display_data"
    }
   ],
   "source": [
    "env = gym.make(ENV_NAME, render_mode=\"rgb_array\")\n",
    "env.reset()\n",
    "\n",
    "n_cols = 5\n",
    "n_rows = 2\n",
    "fig = plt.figure(figsize=(16, 9))\n",
    "\n",
    "for row in range(n_rows):\n",
    "    for col in range(n_cols):\n",
    "        ax = fig.add_subplot(n_rows, n_cols, row * n_cols + col + 1)\n",
    "        ax.imshow(env.render())\n",
    "        env.step(env.action_space.sample())\n",
    "plt.show()"
   ]
  },
  {
   "cell_type": "markdown",
   "metadata": {
    "id": "hLNt1fbnsoUB"
   },
   "source": [
    "**Let's play a little.**\n",
    "\n",
    "Pay attention to zoom and fps args of play function. Control: A, D, space."
   ]
  },
  {
   "cell_type": "code",
   "execution_count": 7,
   "metadata": {
    "colab": {
     "base_uri": "https://localhost:8080/"
    },
    "id": "WOIL47azsoUB",
    "outputId": "1db65ea0-4b44-4198-dec6-cc8f456379d6"
   },
   "outputs": [
    {
     "name": "stderr",
     "output_type": "stream",
     "text": [
      "/usr/local/lib/python3.10/dist-packages/ipykernel/ipkernel.py:283: DeprecationWarning: `should_run_async` will not call `transform_cell` automatically in the future. Please pass the result to `transformed_cell` argument and any exception that happen during thetransform in `preprocessing_exc_tuple` in IPython 7.17 and above.\n",
      "  and should_run_async(code)\n"
     ]
    }
   ],
   "source": [
    "# # Does not work in Colab.\n",
    "# # Use KeyboardInterrupt (Kernel → Interrupt in Jupyter) to continue.\n",
    "\n",
    "# from gymnasium.utils.play import play\n",
    "\n",
    "# play(env=gym.make(ENV_NAME, render_mode=\"rgb_array\"), zoom=4, fps=40)"
   ]
  },
  {
   "cell_type": "markdown",
   "metadata": {
    "id": "5DPrxQuXsoUB"
   },
   "source": [
    "### Processing game image\n",
    "\n",
    "Raw Atari images are large, 210x160x3 by default. However, we don't need that level of detail in order to learn from them.\n",
    "\n",
    "We can thus save a lot of time by preprocessing game image, including\n",
    "* Resizing to a smaller shape, 64x64\n",
    "* Converting to grayscale\n",
    "* Cropping irrelevant image parts (top, bottom and edges)\n",
    "\n",
    "Also please keep one dimension for channel so that final shape would be 1x64x64.\n",
    "\n",
    "Tip: You can implement your own grayscale converter and assign a huge weight to the red channel. This dirty trick is not necessary but it will speed up learning."
   ]
  },
  {
   "cell_type": "code",
   "execution_count": 8,
   "metadata": {
    "id": "kHBZgKV_soUB"
   },
   "outputs": [],
   "source": [
    "from gymnasium import ObservationWrapper\n",
    "from gymnasium.spaces import Box\n",
    "import cv2\n",
    "from PIL import Image\n",
    "\n",
    "class PreprocessAtariObs(ObservationWrapper):\n",
    "    def __init__(self, env):\n",
    "        \"\"\"A gym wrapper that crops, scales image into the desired shapes and grayscales it.\"\"\"\n",
    "        super().__init__(env)\n",
    "\n",
    "        self.img_size = (1, 64, 64)\n",
    "        self.observation_space = Box(0.0, 1.0, self.img_size)\n",
    "\n",
    "\n",
    "    def _to_gray_scale(self, rgb, channel_weights=[0.8, 0.1, 0.1]):\n",
    "        #<YOUR CODE>\n",
    "        return rgb[:, :, 0] * channel_weights[0] + rgb[:, :, 1] * channel_weights[1] + rgb[:, :, 2] * channel_weights[2]\n",
    "\n",
    "\n",
    "    def observation(self, img):\n",
    "        \"\"\"what happens to each observation\"\"\"\n",
    "\n",
    "        # Here's what you need to do:\n",
    "        #  * crop image, remove irrelevant parts\n",
    "        #  * resize image to self.img_size\n",
    "        #     (Use imresize from any library you want,\n",
    "        #      e.g. opencv, PIL, keras. Don't use skimage.imresize\n",
    "        #      because it is extremely slow.)\n",
    "        #  * cast image to grayscale\n",
    "        #  * convert image pixels to (0,1) range, float32 type\n",
    "\n",
    "        #<YOUR CODE>\n",
    "\n",
    "\n",
    "        def crop(img, l, r, u, d):\n",
    "            return img[u:-d, l:-r, :]\n",
    "        def resize(img):\n",
    "            size = self.img_size[1:]\n",
    "            image = Image.fromarray(np.uint8(img))\n",
    "            image = image.resize(size)\n",
    "            img = np.array(image).reshape(self.img_size)\n",
    "            return img.astype(np.float32)\n",
    "\n",
    "        img = crop(img, 7, 7, 30, 15)\n",
    "        img = self._to_gray_scale(img)\n",
    "\n",
    "        img = resize(img)\n",
    "        img = img / 255.0\n",
    "        return img"
   ]
  },
  {
   "cell_type": "code",
   "execution_count": 9,
   "metadata": {
    "colab": {
     "base_uri": "https://localhost:8080/",
     "height": 461
    },
    "id": "dkdoKM4ZsoUB",
    "outputId": "ea38b3aa-bada-4cce-b456-0df90a4c9e29"
   },
   "outputs": [
    {
     "name": "stdout",
     "output_type": "stream",
     "text": [
      "Formal tests seem fine. Here's an example of what you'll get.\n"
     ]
    },
    {
     "data": {
      "image/png": "[encoded data removed]",
      "text/plain": [
       "<Figure size 1600x900 with 10 Axes>"
      ]
     },
     "metadata": {},
     "output_type": "display_data"
    }
   ],
   "source": [
    "import gymnasium as gym\n",
    "# spawn game instance for tests\n",
    "env = gym.make(ENV_NAME, render_mode=\"rgb_array\")  # create raw env\n",
    "env = PreprocessAtariObs(env)\n",
    "observation_shape = env.observation_space.shape\n",
    "n_actions = env.action_space.n\n",
    "env.reset()\n",
    "obs, _, _, _, _ = env.step(env.action_space.sample())\n",
    "\n",
    "# test observation\n",
    "assert obs.ndim == 3, \"observation must be [channel, h, w] even if there's just one channel\"\n",
    "assert obs.shape == observation_shape, obs.shape\n",
    "assert obs.dtype == 'float32'\n",
    "assert len(np.unique(obs)) > 2, \"your image must not be binary\"\n",
    "assert 0 <= np.min(obs) and np.max(\n",
    "    obs) <= 1, \"convert image pixels to [0,1] range\"\n",
    "\n",
    "assert np.max(obs) >= 0.5, \"It would be easier to see a brighter observation\"\n",
    "assert np.mean(obs) >= 0.1, \"It would be easier to see a brighter observation\"\n",
    "\n",
    "print(\"Formal tests seem fine. Here's an example of what you'll get.\")\n",
    "\n",
    "n_cols = 5\n",
    "n_rows = 2\n",
    "fig = plt.figure(figsize=(16, 9))\n",
    "obs, _ = env.reset()\n",
    "for row in range(n_rows):\n",
    "    for col in range(n_cols):\n",
    "        ax = fig.add_subplot(n_rows, n_cols, row * n_cols + col + 1)\n",
    "        ax.imshow(obs[0, :, :], interpolation='none', cmap='gray')\n",
    "        obs, _, _, _, _ = env.step(env.action_space.sample())\n",
    "plt.show()\n"
   ]
  },
  {
   "cell_type": "markdown",
   "metadata": {
    "id": "WGSKOffIsoUB"
   },
   "source": [
    "### Wrapping."
   ]
  },
  {
   "cell_type": "markdown",
   "metadata": {
    "id": "MRQmPw5DsoUB"
   },
   "source": [
    "**About the game:** You have 5 lives and get points for breaking the wall. Higher bricks cost more than the lower ones. There are 4 actions: start game (should be called at the beginning and after each life is lost), move left, move right and do nothing. There are some common wrappers used for Atari environments."
   ]
  },
  {
   "cell_type": "code",
   "execution_count": 10,
   "metadata": {
    "id": "oyYRDowcsoUB"
   },
   "outputs": [],
   "source": [
    "import atari_wrappers\n",
    "\n",
    "def PrimaryAtariWrap(env, clip_rewards=True):\n",
    "    assert 'NoFrameskip' in env.spec.id\n",
    "\n",
    "    # This wrapper holds the same action for <skip> frames and outputs\n",
    "    # the maximal pixel value of 2 last frames (to handle blinking\n",
    "    # in some envs)\n",
    "    env = atari_wrappers.MaxAndSkipEnv(env, skip=4)\n",
    "\n",
    "    # This wrapper sends done=True when each life is lost\n",
    "    # (not all the 5 lives that are givern by the game rules).\n",
    "    # It should make easier for the agent to understand that losing is bad.\n",
    "    env = atari_wrappers.EpisodicLifeEnv(env)\n",
    "\n",
    "    # This wrapper laucnhes the ball when an episode starts.\n",
    "    # Without it the agent has to learn this action, too.\n",
    "    # Actually it can but learning would take longer.\n",
    "    env = atari_wrappers.FireResetEnv(env)\n",
    "\n",
    "    # This wrapper transforms rewards to {-1, 0, 1} according to their sign\n",
    "    if clip_rewards:\n",
    "        env = atari_wrappers.ClipRewardEnv(env)\n",
    "\n",
    "    # This wrapper is yours :)\n",
    "    env = PreprocessAtariObs(env)\n",
    "    return env"
   ]
  },
  {
   "cell_type": "markdown",
   "metadata": {
    "id": "4iJM3IAwsoUB"
   },
   "source": [
    "**Let's see if the game is still playable after applying the wrappers.**\n",
    "At playing the EpisodicLifeEnv wrapper seems not to work but actually it does (because after when life finishes a new ball is dropped automatically - it means that FireResetEnv wrapper understands that a new episode began)."
   ]
  },
  {
   "cell_type": "code",
   "execution_count": 11,
   "metadata": {
    "id": "dFtHgcLJsoUC"
   },
   "outputs": [],
   "source": [
    "# # Does not work in Colab.\n",
    "# # Use KeyboardInterrupt (Kernel → Interrupt in Jupyter) to continue.\n",
    "\n",
    "# from gymnasium.utils.play import play\n",
    "\n",
    "# def make_play_env():\n",
    "#     env = gym.make(ENV_NAME, render_mode=\"rgb_array\")\n",
    "#     env = PrimaryAtariWrap(env)\n",
    "# # in torch imgs have shape [c, h, w] instead of common [h, w, c]\n",
    "#     env = atari_wrappers.AntiTorchWrapper(env)\n",
    "#     return env\n",
    "\n",
    "# play(make_play_env(), zoom=4, fps=3)"
   ]
  },
  {
   "cell_type": "markdown",
   "metadata": {
    "id": "RJAkvALbsoUC"
   },
   "source": [
    "### Frame buffer\n",
    "\n",
    "Our agent can only process one observation at a time, so we gotta make sure it contains enough information to find optimal actions. For instance, agent has to react to moving objects so it must be able to measure object's velocity.\n",
    "\n",
    "To do so, we introduce a buffer that stores 4 last images. This time everything is pre-implemented for you, not really by the staff of the course :)"
   ]
  },
  {
   "cell_type": "code",
   "execution_count": 12,
   "metadata": {
    "colab": {
     "base_uri": "https://localhost:8080/"
    },
    "id": "1ucMNoYysoUC",
    "outputId": "9a3a467a-7aa1-429a-d1e5-055e26e48fde"
   },
   "outputs": [
    {
     "data": {
      "text/plain": [
       "(4, (4, 64, 64))"
      ]
     },
     "execution_count": 12,
     "metadata": {},
     "output_type": "execute_result"
    }
   ],
   "source": [
    "from framebuffer import FrameBuffer\n",
    "\n",
    "def make_env(clip_rewards=True):\n",
    "    env = gym.make(ENV_NAME, render_mode=\"rgb_array\")  # create raw env\n",
    "    env = PrimaryAtariWrap(env, clip_rewards)\n",
    "    env = FrameBuffer(env, n_frames=4, dim_order='pytorch')\n",
    "    return env\n",
    "\n",
    "env = make_env()\n",
    "env.reset()\n",
    "n_actions = env.action_space.n\n",
    "state_shape = env.observation_space.shape\n",
    "n_actions, state_shape"
   ]
  },
  {
   "cell_type": "code",
   "execution_count": 13,
   "metadata": {
    "colab": {
     "base_uri": "https://localhost:8080/",
     "height": 1000
    },
    "id": "PabpXH59soUC",
    "outputId": "94936e86-2e2a-4dbf-ee52-9849a70c3b5c"
   },
   "outputs": [
    {
     "data": {
      "image/png": "[encoded data removed]",
      "text/plain": [
       "<Figure size 1200x1000 with 1 Axes>"
      ]
     },
     "metadata": {},
     "output_type": "display_data"
    },
    {
     "data": {
      "image/png": "[encoded data removed]",
      "text/plain": [
       "<Figure size 1500x1500 with 1 Axes>"
      ]
     },
     "metadata": {},
     "output_type": "display_data"
    }
   ],
   "source": [
    "for _ in range(12):\n",
    "    obs, _, _, _, _ = env.step(env.action_space.sample())\n",
    "\n",
    "plt.figure(figsize=[12,10])\n",
    "plt.title(\"Game image\")\n",
    "plt.imshow(env.render())\n",
    "plt.show()\n",
    "\n",
    "plt.figure(figsize=[15,15])\n",
    "plt.title(\"Agent observation (4 frames top to bottom)\")\n",
    "plt.imshow(utils.img_by_obs(obs, state_shape), cmap='gray')\n",
    "plt.show()"
   ]
  },
  {
   "cell_type": "markdown",
   "metadata": {
    "id": "jhiOKsQvsoUC"
   },
   "source": [
    "## DQN as it is (4 pts)"
   ]
  },
  {
   "cell_type": "markdown",
   "metadata": {
    "id": "aspwJFiGsoUC"
   },
   "source": [
    "### Building a network\n",
    "\n",
    "We now need to build a neural network that can map images to state q-values. This network will be called on every agent's step so it better not be resnet-152 unless you have an array of GPUs. Instead, you can use strided convolutions with a small number of features to save time and memory.\n",
    "\n",
    "You can build any architecture you want, but for reference, here's something that will more or less work:"
   ]
  },
  {
   "cell_type": "markdown",
   "metadata": {
    "id": "cjVMIUG7soUC"
   },
   "source": [
    "![img](https://github.com/yandexdataschool/Practical_RL/raw/master/yet_another_week/_resource/dqn_arch.png)"
   ]
  },
  {
   "cell_type": "markdown",
   "metadata": {
    "id": "YbZIucfksoUC"
   },
   "source": [
    "**Dueling network: (+2 pts)**\n",
    "$$Q_{\\theta}(s, a) = V_{\\eta}(f_{\\xi}(s)) + A_{\\psi}(f_{\\xi}(s), a) - \\frac{\\sum_{a'}A_{\\psi}(f_{\\xi}(s), a')}{N_{actions}},$$\n",
    "where $\\xi$, $\\eta$, and $\\psi$ are, respectively, the parameters of the\n",
    "shared encoder $f_ξ$ , of the value stream $V_\\eta$ , and of the advantage stream $A_\\psi$; and $\\theta = \\{\\xi, \\eta, \\psi\\}$ is their concatenation.\n",
    "\n",
    "For the architecture on the image $V$ and $A$ heads can follow the dense layer instead of $Q$. Please don't worry that the model becomes a little bigger."
   ]
  },
  {
   "cell_type": "code",
   "execution_count": 14,
   "metadata": {
    "colab": {
     "base_uri": "https://localhost:8080/"
    },
    "id": "SPPmY6wIsoUC",
    "outputId": "82ce02bd-c93a-4204-d314-7f1047a0e05a"
   },
   "outputs": [
    {
     "data": {
      "text/plain": [
       "device(type='cuda')"
      ]
     },
     "execution_count": 14,
     "metadata": {},
     "output_type": "execute_result"
    }
   ],
   "source": [
    "import torch\n",
    "import torch.nn as nn\n",
    "device = torch.device('cuda' if torch.cuda.is_available() else 'cpu')\n",
    "# those who have a GPU but feel unfair to use it can uncomment:\n",
    "# device = torch.device('cpu')\n",
    "device"
   ]
  },
  {
   "cell_type": "code",
   "execution_count": 15,
   "metadata": {
    "id": "FvaNwSxhsoUC"
   },
   "outputs": [],
   "source": [
    "def conv2d_size_out(size, kernel_size, stride):\n",
    "    \"\"\"\n",
    "    common use case:\n",
    "    cur_layer_img_w = conv2d_size_out(cur_layer_img_w, kernel_size, stride)\n",
    "    cur_layer_img_h = conv2d_size_out(cur_layer_img_h, kernel_size, stride)\n",
    "    to understand the shape for dense layer's input\n",
    "    \"\"\"\n",
    "    return (size - (kernel_size - 1) - 1) // stride  + 1"
   ]
  },
  {
   "cell_type": "code",
   "execution_count": 16,
   "metadata": {
    "id": "_08ssImaqUiF"
   },
   "outputs": [],
   "source": [
    "# Noisy Linear for Noisy Net\n",
    "class NoisyLinear(nn.Module):\n",
    "    def __init__(self, in_features, out_features, std_init=0.4):\n",
    "        super(NoisyLinear, self).__init__()\n",
    "        self.in_features = in_features\n",
    "        self.out_features = out_features\n",
    "        self.std_init = std_init\n",
    "\n",
    "        self.weight_mu = nn.Parameter(torch.Tensor(out_features, in_features))\n",
    "        self.weight_sigma = nn.Parameter(torch.Tensor(out_features, in_features))\n",
    "        self.register_buffer(\"weight_epsilon\", torch.Tensor(out_features, in_features))\n",
    "\n",
    "        self.bias_mu = nn.Parameter(torch.Tensor(out_features))\n",
    "        self.bias_sigma = nn.Parameter(torch.Tensor(out_features))\n",
    "        self.register_buffer(\"bias_epsilon\", torch.Tensor(out_features))\n",
    "\n",
    "        self.reset_parameters()\n",
    "\n",
    "    def reset_parameters(self):\n",
    "        mu_range = 1 / self.in_features ** 0.5\n",
    "        self.weight_mu.data.uniform_(-mu_range, mu_range)\n",
    "        self.weight_sigma.data.fill_(self.std_init / (self.in_features ** 0.5))\n",
    "        self.bias_mu.data.uniform_(-mu_range, mu_range)\n",
    "        self.bias_sigma.data.fill_(self.std_init / (self.out_features ** 0.5))\n",
    "\n",
    "    def forward(self, input):\n",
    "        if self.training:\n",
    "            self.weight_epsilon.data.normal_()\n",
    "            self.bias_epsilon.data.normal_()\n",
    "            weight = self.weight_mu + self.weight_sigma * self.weight_epsilon\n",
    "            bias = self.bias_mu + self.bias_sigma * self.bias_epsilon\n",
    "        else:\n",
    "            weight = self.weight_mu\n",
    "            bias = self.bias_mu\n",
    "\n",
    "        return torch.nn.functional.linear(input, weight, bias)"
   ]
  },
  {
   "cell_type": "code",
   "execution_count": 17,
   "metadata": {
    "id": "dmLl6IkhsoUC"
   },
   "outputs": [],
   "source": [
    "class DQNAgent(nn.Module):\n",
    "    def __init__(self, state_shape, n_actions, epsilon=0):\n",
    "\n",
    "        super().__init__()\n",
    "        self.epsilon = epsilon\n",
    "        self.n_actions = n_actions\n",
    "        self.state_shape = state_shape\n",
    "\n",
    "        # Define your network body here. Please make sure agent is fully contained here\n",
    "        # nn.Flatten() can be useful\n",
    "\n",
    "        #<YOUR CODE>\n",
    "        self.convs = nn.Sequential(nn.Conv2d(state_shape[0], 16, kernel_size=(3, 3), stride=2), nn.ReLU(),\n",
    "                            nn.Conv2d(16, 32, kernel_size=(3, 3), stride=2), nn.ReLU(),\n",
    "                            nn.Conv2d(32, 64, kernel_size=(3, 3), stride=2), nn.ReLU())\n",
    "        self.flatten = nn.Flatten(start_dim=1)\n",
    "\n",
    "        # Noisy Net\n",
    "        self.fc = nn.Sequential(NoisyLinear(64*7*7, 256), nn.ReLU(), NoisyLinear(256, self.n_actions))\n",
    "        # end of Noisy Net\n",
    "\n",
    "        # basic\n",
    "        #self.fc = nn.Sequential(nn.Linear(64*7*7, 256), nn.ReLU(),\n",
    "        #                        nn.Linear(256, self.n_actions))\n",
    "\n",
    "        # Dueling DQN\n",
    "        self.dueling_fc = nn.Sequential(NoisyLinear(64*7*7, 256), nn.ReLU(), NoisyLinear(256, 1))\n",
    "        # end of Dueling DQN\n",
    "\n",
    "    def forward(self, state_t):\n",
    "        \"\"\"\n",
    "        takes agent's observation (tensor), returns qvalues (tensor)\n",
    "        :param state_t: a batch of 4-frame buffers, shape = [batch_size, 4, h, w]\n",
    "        \"\"\"\n",
    "        # Use your network to compute qvalues for given state\n",
    "        after_conv = self.convs(state_t)\n",
    "        flat = self.flatten(after_conv)\n",
    "        qvalues = self.fc(flat) #<YOUR CODE>\n",
    "        assert qvalues.requires_grad, \"qvalues must be a torch tensor with grad\"\n",
    "        assert (\n",
    "            len(qvalues.shape) == 2 and\n",
    "            qvalues.shape[0] == state_t.shape[0] and\n",
    "            qvalues.shape[1] == n_actions\n",
    "        )\n",
    "        #return qvalues\n",
    "\n",
    "        # dueling DQN\n",
    "        v = self.dueling_fc(flat)\n",
    "        v = v.expand(state_t.size(0), self.n_actions)\n",
    "        a = self.fc(flat)\n",
    "        qvalues = v + a - a.mean()\n",
    "        return qvalues\n",
    "        # end of dueling DQN\n",
    "\n",
    "\n",
    "    def get_qvalues(self, states):\n",
    "        \"\"\"\n",
    "        like forward, but works on numpy arrays, not tensors\n",
    "        \"\"\"\n",
    "        model_device = next(self.parameters()).device\n",
    "        states = torch.tensor(states, device=model_device, dtype=torch.float32)\n",
    "        qvalues = self.forward(states)\n",
    "        return qvalues.data.cpu().numpy()\n",
    "\n",
    "    def sample_actions(self, qvalues):\n",
    "        \"\"\"pick actions given qvalues. Uses epsilon-greedy exploration strategy. \"\"\"\n",
    "        epsilon = self.epsilon\n",
    "        batch_size, n_actions = qvalues.shape\n",
    "\n",
    "        random_actions = np.random.choice(n_actions, size=batch_size)\n",
    "        best_actions = qvalues.argmax(axis=-1)\n",
    "\n",
    "        should_explore = np.random.choice(\n",
    "            [0, 1], batch_size, p=[1-epsilon, epsilon])\n",
    "        return np.where(should_explore, random_actions, best_actions)"
   ]
  },
  {
   "cell_type": "code",
   "execution_count": 18,
   "metadata": {
    "id": "BUFMLKX1soUC"
   },
   "outputs": [],
   "source": [
    "agent = DQNAgent(state_shape, n_actions, epsilon=0.5).to(device)"
   ]
  },
  {
   "cell_type": "markdown",
   "metadata": {
    "id": "XbsIT2EdsoUC"
   },
   "source": [
    "Now let's try out our agent to see if it raises any errors."
   ]
  },
  {
   "cell_type": "code",
   "execution_count": 19,
   "metadata": {
    "id": "pZR3qE2esoUC"
   },
   "outputs": [],
   "source": [
    "def evaluate(env, agent, n_games=1, greedy=False, t_max=10000, seed=None):\n",
    "    \"\"\" Plays n_games full games. If greedy, picks actions as argmax(qvalues). Returns mean reward. \"\"\"\n",
    "    rewards = []\n",
    "    for _ in range(n_games):\n",
    "        s, _ = env.reset(seed=seed)\n",
    "        reward = 0\n",
    "        for _ in range(t_max):\n",
    "            qvalues = agent.get_qvalues([s])\n",
    "            action = qvalues.argmax(axis=-1)[0] if greedy else agent.sample_actions(qvalues)[0]\n",
    "            s, r, terminated, truncated, _ = env.step(action)\n",
    "            reward += r\n",
    "            if terminated or truncated:\n",
    "                break\n",
    "\n",
    "        rewards.append(reward)\n",
    "    return np.mean(rewards)"
   ]
  },
  {
   "cell_type": "code",
   "execution_count": 20,
   "metadata": {
    "colab": {
     "base_uri": "https://localhost:8080/"
    },
    "id": "-1OZLPwXsoUC",
    "outputId": "f96ce218-246b-498d-8cf2-78f387ba2022"
   },
   "outputs": [
    {
     "name": "stderr",
     "output_type": "stream",
     "text": [
      "<ipython-input-17-ac3bf432bb19>:61: UserWarning: Creating a tensor from a list of numpy.ndarrays is extremely slow. Please consider converting the list to a single numpy.ndarray with numpy.array() before converting to a tensor. (Triggered internally at ../torch/csrc/utils/tensor_new.cpp:261.)\n",
      "  states = torch.tensor(states, device=model_device, dtype=torch.float32)\n"
     ]
    },
    {
     "data": {
      "text/plain": [
       "0.0"
      ]
     },
     "execution_count": 20,
     "metadata": {},
     "output_type": "execute_result"
    }
   ],
   "source": [
    "evaluate(env, agent, n_games=1)"
   ]
  },
  {
   "cell_type": "markdown",
   "metadata": {
    "id": "2BiRixA-soUC"
   },
   "source": [
    "### Experience replay\n",
    "For this assignment, we provide you with experience replay buffer. If you implemented experience replay buffer in last week's assignment, you can copy-paste it here **to get 2 bonus points**.\n",
    "\n",
    "![img](https://github.com/yandexdataschool/Practical_RL/raw/master/yet_another_week/_resource/exp_replay.png)"
   ]
  },
  {
   "cell_type": "markdown",
   "metadata": {
    "id": "jTBZo5BVsoUC"
   },
   "source": [
    "#### The interface is fairly simple:\n",
    "* `exp_replay.add(obs, act, rw, next_obs, done)` - saves (s,a,r,s',done) tuple into the buffer\n",
    "* `exp_replay.sample(batch_size)` - returns observations, actions, rewards, next_observations and is_done for `batch_size` random samples.\n",
    "* `len(exp_replay)` - returns number of elements stored in replay buffer."
   ]
  },
  {
   "cell_type": "code",
   "execution_count": 21,
   "metadata": {
    "id": "Ydi0KK9LsoUC"
   },
   "outputs": [],
   "source": [
    "from replay_buffer import ReplayBuffer\n",
    "exp_replay = ReplayBuffer(10)\n",
    "\n",
    "for _ in range(30):\n",
    "    exp_replay.add(env.reset()[0], env.action_space.sample(), 1.0, env.reset()[0], done=False)\n",
    "\n",
    "obs_batch, act_batch, reward_batch, next_obs_batch, is_done_batch = exp_replay.sample(5)\n",
    "\n",
    "assert len(exp_replay) == 10, \"experience replay size should be 10 because that's what maximum capacity is\""
   ]
  },
  {
   "cell_type": "code",
   "execution_count": 22,
   "metadata": {
    "id": "cEXv69KWsoUC"
   },
   "outputs": [],
   "source": [
    "def play_and_record(initial_state, agent, env, exp_replay, n_steps=1):\n",
    "    \"\"\"\n",
    "    Play the game for exactly n_steps, record every (s,a,r,s', done) to replay buffer.\n",
    "    Whenever game ends due to termination or truncation, add record with done=terminated and reset the game.\n",
    "    It is guaranteed that env has terminated=False when passed to this function.\n",
    "\n",
    "    PLEASE DO NOT RESET ENV UNLESS IT IS \"DONE\"\n",
    "\n",
    "    :returns: return sum of rewards over time and the state in which the env stays\n",
    "    \"\"\"\n",
    "    s = initial_state\n",
    "    sum_rewards = 0\n",
    "\n",
    "    # Play the game for n_steps as per instructions above\n",
    "    #<YOUR CODE> из debug\n",
    "    for i in range(n_steps):\n",
    "        done = False\n",
    "        qvalues = agent.get_qvalues([s])\n",
    "        action = agent.sample_actions(qvalues)[0]\n",
    "        s_new, r, terminated, truncated, _ = env.step(action)\n",
    "        sum_rewards += r\n",
    "        if terminated or truncated:\n",
    "            done=True\n",
    "        exp_replay.add(s, action, r, s_new, done)\n",
    "        s = s_new\n",
    "        if terminated or truncated:\n",
    "            s = env.reset()[0]\n",
    "            #s = initial_state\n",
    "\n",
    "    return sum_rewards, s"
   ]
  },
  {
   "cell_type": "code",
   "execution_count": 23,
   "metadata": {
    "colab": {
     "base_uri": "https://localhost:8080/"
    },
    "id": "GaFynKaMsoUF",
    "outputId": "b856259d-c45e-4e31-9a75-230de885d9b9"
   },
   "outputs": [
    {
     "name": "stdout",
     "output_type": "stream",
     "text": [
      "Well done!\n"
     ]
    }
   ],
   "source": [
    "# testing your code.\n",
    "exp_replay = ReplayBuffer(2000)\n",
    "\n",
    "state, _ = env.reset()\n",
    "play_and_record(state, agent, env, exp_replay, n_steps=1000)\n",
    "\n",
    "# if you're using your own experience replay buffer, some of those tests may need correction.\n",
    "# just make sure you know what your code does\n",
    "assert len(exp_replay) == 1000, \\\n",
    "    \"play_and_record should have added exactly 1000 steps, \" \\\n",
    "    \"but instead added %i\" % len(exp_replay)\n",
    "is_dones = list(zip(*exp_replay._storage))[-1]\n",
    "\n",
    "assert 0 < np.mean(is_dones) < 0.1, \\\n",
    "    \"Please make sure you restart the game whenever it is 'done' and \" \\\n",
    "    \"record the is_done correctly into the buffer. Got %f is_done rate over \" \\\n",
    "    \"%i steps. [If you think it's your tough luck, just re-run the test]\" % (\n",
    "        np.mean(is_dones), len(exp_replay))\n",
    "\n",
    "for _ in range(100):\n",
    "    obs_batch, act_batch, reward_batch, next_obs_batch, is_done_batch = exp_replay.sample(10)\n",
    "    assert obs_batch.shape == next_obs_batch.shape == (10,) + state_shape\n",
    "    assert act_batch.shape == (10,), \\\n",
    "        \"actions batch should have shape (10,) but is instead %s\" % str(act_batch.shape)\n",
    "    assert reward_batch.shape == (10,), \\\n",
    "        \"rewards batch should have shape (10,) but is instead %s\" % str(reward_batch.shape)\n",
    "    assert is_done_batch.shape == (10,), \\\n",
    "        \"is_done batch should have shape (10,) but is instead %s\" % str(is_done_batch.shape)\n",
    "    assert [int(i) in (0, 1) for i in is_dones], \\\n",
    "        \"is_done should be strictly True or False\"\n",
    "    assert [0 <= a < n_actions for a in act_batch], \"actions should be within [0, n_actions)\"\n",
    "\n",
    "print(\"Well done!\")"
   ]
  },
  {
   "cell_type": "markdown",
   "metadata": {
    "id": "y5zyryPOsoUF"
   },
   "source": [
    "### Target networks\n",
    "\n",
    "We also employ the so called \"target network\" - a copy of neural network weights to be used for reference Q-values:\n",
    "\n",
    "The network itself is an exact copy of agent network, but it's parameters are not trained. Instead, they are moved here from agent's actual network every so often.\n",
    "\n",
    "$$ Q_{reference}(s,a) = r + \\gamma \\cdot \\max _{a'} Q_{target}(s',a') $$\n",
    "\n",
    "![img](https://github.com/yandexdataschool/Practical_RL/raw/master/yet_another_week/_resource/target_net.png)"
   ]
  },
  {
   "cell_type": "code",
   "execution_count": 24,
   "metadata": {
    "colab": {
     "base_uri": "https://localhost:8080/"
    },
    "id": "EMtDyN9fsoUF",
    "outputId": "272a1f8e-2427-4057-f269-8de3bf13c4a9"
   },
   "outputs": [
    {
     "data": {
      "text/plain": [
       "<All keys matched successfully>"
      ]
     },
     "execution_count": 24,
     "metadata": {},
     "output_type": "execute_result"
    }
   ],
   "source": [
    "target_network = DQNAgent(agent.state_shape, agent.n_actions, epsilon=0.5).to(device)\n",
    "# This is how you can load weights from agent into target network\n",
    "target_network.load_state_dict(agent.state_dict())"
   ]
  },
  {
   "cell_type": "markdown",
   "metadata": {
    "id": "2idY8QX0soUF"
   },
   "source": [
    "### Learning with... Q-learning\n",
    "Here we write a function similar to `agent.update` from tabular q-learning."
   ]
  },
  {
   "cell_type": "markdown",
   "metadata": {
    "id": "k46MPwwwsoUF"
   },
   "source": [
    "Compute Q-learning TD error:\n",
    "\n",
    "$$ L = { 1 \\over N} \\sum_i [ Q_{\\theta}(s,a) - Q_{reference}(s,a) ] ^2 $$\n",
    "\n",
    "With Q-reference defined as\n",
    "\n",
    "$$ Q_{reference}(s,a) = r(s,a) + \\gamma \\cdot max_{a'} Q_{target}(s', a') $$\n",
    "\n",
    "Where\n",
    "* $Q_{target}(s',a')$ denotes Q-value of next state and next action predicted by __target_network__\n",
    "* $s, a, r, s'$ are current state, action, reward and next state respectively\n",
    "* $\\gamma$ is a discount factor defined two cells above.\n",
    "\n",
    "\n",
    "__Note 1:__ there's an example input below. Feel free to experiment with it before you write the function.\n",
    "\n",
    "__Note 2:__ compute_td_loss is a source of 99% of bugs in this homework. If reward doesn't improve, it often helps to go through it line by line [with a rubber duck](https://rubberduckdebugging.com/).\n",
    "\n",
    "**Double DQN (+2 pts)**\n",
    "\n",
    "$$ Q_{reference}(s,a) = r(s, a) + \\gamma \\cdot\n",
    "Q_{target}(s',argmax_{a'}Q_\\theta(s', a')) $$"
   ]
  },
  {
   "cell_type": "code",
   "execution_count": 25,
   "metadata": {
    "id": "V02HcUYasoUG"
   },
   "outputs": [],
   "source": [
    "def compute_td_loss(states, actions, rewards, next_states, is_done,\n",
    "                    agent, target_network,\n",
    "                    gamma=0.99,\n",
    "                    check_shapes=False,\n",
    "                    device=device):\n",
    "    \"\"\" Compute td loss using torch operations only. Use the formulae above. \"\"\"\n",
    "    states = torch.tensor(states, device=device, dtype=torch.float32)    # shape: [batch_size, *state_shape]\n",
    "    actions = torch.tensor(actions, device=device, dtype=torch.int64)    # shape: [batch_size]\n",
    "    rewards = torch.tensor(rewards, device=device, dtype=torch.float32)  # shape: [batch_size]\n",
    "    # shape: [batch_size, *state_shape]\n",
    "    next_states = torch.tensor(next_states, device=device, dtype=torch.float)\n",
    "    is_done = torch.tensor(\n",
    "        is_done.astype('float32'),\n",
    "        device=device,\n",
    "        dtype=torch.float32,\n",
    "    )  # shape: [batch_size]\n",
    "    is_not_done = 1 - is_done\n",
    "\n",
    "    # get q-values for all actions in current states\n",
    "    predicted_qvalues = agent(states)  # shape: [batch_size, n_actions]\n",
    "\n",
    "    # compute q-values for all actions in next states\n",
    "    predicted_next_qvalues = target_network(next_states)  # shape: [batch_size, n_actions]\n",
    "\n",
    "    # select q-values for chosen actions\n",
    "    predicted_qvalues_for_actions = predicted_qvalues[range(len(actions)), actions]  # shape: [batch_size]\n",
    "\n",
    "    # compute V*(next_states) using predicted next q-values\n",
    "    next_state_values = torch.max(predicted_next_qvalues, dim=1).values #<YOUR CODE> from debug\n",
    "\n",
    "    assert next_state_values.dim() == 1 and next_state_values.shape[0] == states.shape[0], \\\n",
    "        \"must predict one value per state\"\n",
    "\n",
    "\n",
    "    # Double DQN\n",
    "    actions_max_idxs = torch.max(predicted_next_qvalues, dim=1).indices\n",
    "    actions_max = actions[actions_max_idxs]\n",
    "    q_target = target_network(next_states)[range(len(actions)), actions_max]\n",
    "    target_qvalues_for_actions = rewards + is_not_done * gamma * q_target\n",
    "    # end of Double DQN\n",
    "\n",
    "    # compute \"target q-values\" for loss - it's what's inside square parentheses in the above formula.\n",
    "    # at the last state use the simplified formula: Q(s,a) = r(s,a) since s' doesn't exist\n",
    "    # you can multiply next state values by is_not_done to achieve this.\n",
    "\n",
    "    # usual DQN (commented because I have Double DQN instead of this)\n",
    "    #target_qvalues_for_actions = rewards + is_not_done * gamma * next_state_values #<YOUR CODE> from debug\n",
    "\n",
    "    # mean squared error loss to minimize\n",
    "    loss = torch.mean((predicted_qvalues_for_actions - target_qvalues_for_actions.detach()) ** 2)\n",
    "\n",
    "    if check_shapes:\n",
    "        assert predicted_next_qvalues.data.dim() == 2, \\\n",
    "            \"make sure you predicted q-values for all actions in next state\"\n",
    "        assert next_state_values.data.dim() == 1, \\\n",
    "            \"make sure you computed V(s') as maximum over just the actions axis and not all axes\"\n",
    "        assert target_qvalues_for_actions.data.dim() == 1, \\\n",
    "            \"there's something wrong with target q-values, they must be a vector\"\n",
    "\n",
    "    return loss"
   ]
  },
  {
   "cell_type": "markdown",
   "metadata": {
    "id": "x8AvquAtsoUG"
   },
   "source": [
    "Sanity checks"
   ]
  },
  {
   "cell_type": "code",
   "execution_count": 26,
   "metadata": {
    "id": "5nRoOn30soUG"
   },
   "outputs": [],
   "source": [
    "obs_batch, act_batch, reward_batch, next_obs_batch, is_done_batch = exp_replay.sample(10)\n",
    "\n",
    "loss = compute_td_loss(obs_batch, act_batch, reward_batch, next_obs_batch, is_done_batch,\n",
    "                       agent, target_network,\n",
    "                       gamma=0.99, check_shapes=True)\n",
    "loss.backward()\n",
    "\n",
    "assert loss.requires_grad and tuple(loss.data.size()) == (), \\\n",
    "    \"you must return scalar loss - mean over batch\"\n",
    "assert np.any(next(agent.parameters()).grad.data.cpu().numpy() != 0), \\\n",
    "    \"loss must be differentiable w.r.t. network weights\"\n",
    "assert np.all(next(target_network.parameters()).grad is None), \\\n",
    "    \"target network should not have grads\""
   ]
  },
  {
   "cell_type": "markdown",
   "metadata": {
    "id": "KIplL0hSsoUG"
   },
   "source": [
    "## Main loop (3 pts)\n",
    "\n",
    "**If deadline is tonight and it has not converged:** It is ok. Send the notebook today and when it converges send it again.\n",
    "If the code is exactly the same points will not be discounted.\n",
    "\n",
    "It's time to put everything together and see if it learns anything."
   ]
  },
  {
   "cell_type": "code",
   "execution_count": 27,
   "metadata": {
    "id": "-JV-ulB-soUG"
   },
   "outputs": [],
   "source": [
    "from tqdm import trange\n",
    "from IPython.display import clear_output\n",
    "import matplotlib.pyplot as plt"
   ]
  },
  {
   "cell_type": "code",
   "execution_count": 28,
   "metadata": {
    "colab": {
     "base_uri": "https://localhost:8080/"
    },
    "id": "HY9NluVqsoUG",
    "outputId": "b7fb62f6-3262-4b70-9fb0-b17dd2defc65"
   },
   "outputs": [
    {
     "data": {
      "text/plain": [
       "<torch._C.Generator at 0x7caaf6eb1ab0>"
      ]
     },
     "execution_count": 28,
     "metadata": {},
     "output_type": "execute_result"
    }
   ],
   "source": [
    "seed = 0 #<YOUR CODE: your favourite random seed>\n",
    "random.seed(seed)\n",
    "np.random.seed(seed)\n",
    "torch.manual_seed(seed)"
   ]
  },
  {
   "cell_type": "code",
   "execution_count": 38,
   "metadata": {
    "colab": {
     "base_uri": "https://localhost:8080/"
    },
    "id": "-eurxA-_soUG",
    "outputId": "21d5e85e-c246-4c1d-9408-97d9948ac9d9"
   },
   "outputs": [
    {
     "data": {
      "text/plain": [
       "<All keys matched successfully>"
      ]
     },
     "execution_count": 38,
     "metadata": {},
     "output_type": "execute_result"
    }
   ],
   "source": [
    "env = make_env(seed)\n",
    "state_shape = env.observation_space.shape\n",
    "n_actions = env.action_space.n\n",
    "state, _ = env.reset()\n",
    "\n",
    "agent = DQNAgent(state_shape, n_actions, epsilon=1).to(device)\n",
    "target_network = DQNAgent(state_shape, n_actions).to(device)\n",
    "target_network.load_state_dict(agent.state_dict())"
   ]
  },
  {
   "cell_type": "markdown",
   "metadata": {
    "id": "WZg25kIasoUG"
   },
   "source": [
    "Buffer of size $10^4$ fits into 5 Gb RAM.\n",
    "\n",
    "Larger sizes ($10^5$ and $10^6$ are common) can be used. It can improve the learning, but $10^4$ is quite enough. $10^2$ will probably fail learning."
   ]
  },
  {
   "cell_type": "code",
   "execution_count": 39,
   "metadata": {
    "colab": {
     "base_uri": "https://localhost:8080/"
    },
    "id": "hWyMxfN4soUG",
    "outputId": "91db2b29-5416-4895-b948-7c8d0632d603"
   },
   "outputs": [
    {
     "name": "stderr",
     "output_type": "stream",
     "text": [
      " 99%|█████████▉| 99/100 [01:10<00:00,  1.40it/s]"
     ]
    },
    {
     "name": "stdout",
     "output_type": "stream",
     "text": [
      "10000\n"
     ]
    },
    {
     "name": "stderr",
     "output_type": "stream",
     "text": [
      "\n"
     ]
    }
   ],
   "source": [
    "REPLAY_BUFFER_SIZE = 10**4\n",
    "N_STEPS = 100\n",
    "\n",
    "exp_replay = ReplayBuffer(REPLAY_BUFFER_SIZE)\n",
    "for i in trange(REPLAY_BUFFER_SIZE // N_STEPS):\n",
    "    if not utils.is_enough_ram(min_available_gb=0.1):\n",
    "        print(\"\"\"\n",
    "            Less than 100 Mb RAM available.\n",
    "            Make sure the buffer size in not too huge.\n",
    "            Also check, maybe other processes consume RAM heavily.\n",
    "            \"\"\"\n",
    "             )\n",
    "        break\n",
    "    play_and_record(state, agent, env, exp_replay, n_steps=N_STEPS)\n",
    "    if len(exp_replay) == REPLAY_BUFFER_SIZE:\n",
    "        break\n",
    "print(len(exp_replay))"
   ]
  },
  {
   "cell_type": "code",
   "execution_count": 40,
   "metadata": {
    "id": "_ca9vbW4soUG"
   },
   "outputs": [],
   "source": [
    "timesteps_per_epoch = 1\n",
    "batch_size = 16\n",
    "total_steps = 3 * 10**6\n",
    "decay_steps = 10**6\n",
    "\n",
    "opt = torch.optim.Adam(agent.parameters(), lr=1e-4)\n",
    "\n",
    "init_epsilon = 1\n",
    "final_epsilon = 0.1\n",
    "\n",
    "loss_freq = 50\n",
    "refresh_target_network_freq = 5000\n",
    "eval_freq = 5000\n",
    "\n",
    "save_freq = 50000\n",
    "\n",
    "max_grad_norm = 50\n",
    "\n",
    "n_lives = 5"
   ]
  },
  {
   "cell_type": "code",
   "execution_count": 41,
   "metadata": {
    "id": "oJWs0q-6soUG"
   },
   "outputs": [],
   "source": [
    "mean_rw_history = []\n",
    "td_loss_history = []\n",
    "grad_norm_history = []\n",
    "initial_state_v_history = []\n",
    "step = 0"
   ]
  },
  {
   "cell_type": "code",
   "execution_count": 42,
   "metadata": {
    "id": "675-JU0hsoUG"
   },
   "outputs": [],
   "source": [
    "import time\n",
    "\n",
    "def wait_for_keyboard_interrupt():\n",
    "    try:\n",
    "        while True:\n",
    "            time.sleep(1)\n",
    "    except KeyboardInterrupt:\n",
    "        pass"
   ]
  },
  {
   "cell_type": "code",
   "execution_count": 43,
   "metadata": {
    "colab": {
     "base_uri": "https://localhost:8080/",
     "height": 926
    },
    "id": "FgQ1vK3CsoUG",
    "outputId": "ba3193d8-6332-42d4-d701-ed0c0b366bdb"
   },
   "outputs": [
    {
     "name": "stdout",
     "output_type": "stream",
     "text": [
      "buffer size = 10000, epsilon = 0.43300\n"
     ]
    },
    {
     "data": {
      "image/png": "[encoded data removed]",
      "text/plain": [
       "<Figure size 1600x900 with 4 Axes>"
      ]
     },
     "metadata": {},
     "output_type": "display_data"
    },
    {
     "name": "stderr",
     "output_type": "stream",
     "text": [
      " 21%|██        | 630769/3000001 [3:30:49<13:11:52, 49.87it/s]\n"
     ]
    },
    {
     "ename": "KeyboardInterrupt",
     "evalue": "ignored",
     "output_type": "error",
     "traceback": [
      "\u001b[0;31m---------------------------------------------------------------------------\u001b[0m",
      "\u001b[0;31mKeyboardInterrupt\u001b[0m                         Traceback (most recent call last)",
      "\u001b[0;32m<ipython-input-43-d4bead9efe72>\u001b[0m in \u001b[0;36m<cell line: 2>\u001b[0;34m()\u001b[0m\n\u001b[1;32m      2\u001b[0m \u001b[0;32mwith\u001b[0m \u001b[0mtrange\u001b[0m\u001b[0;34m(\u001b[0m\u001b[0mstep\u001b[0m\u001b[0;34m,\u001b[0m \u001b[0mtotal_steps\u001b[0m \u001b[0;34m+\u001b[0m \u001b[0;36m1\u001b[0m\u001b[0;34m)\u001b[0m \u001b[0;32mas\u001b[0m \u001b[0mprogress_bar\u001b[0m\u001b[0;34m:\u001b[0m\u001b[0;34m\u001b[0m\u001b[0;34m\u001b[0m\u001b[0m\n\u001b[1;32m      3\u001b[0m     \u001b[0;32mfor\u001b[0m \u001b[0mstep\u001b[0m \u001b[0;32min\u001b[0m \u001b[0mprogress_bar\u001b[0m\u001b[0;34m:\u001b[0m\u001b[0;34m\u001b[0m\u001b[0;34m\u001b[0m\u001b[0m\n\u001b[0;32m----> 4\u001b[0;31m         \u001b[0;32mif\u001b[0m \u001b[0;32mnot\u001b[0m \u001b[0mutils\u001b[0m\u001b[0;34m.\u001b[0m\u001b[0mis_enough_ram\u001b[0m\u001b[0;34m(\u001b[0m\u001b[0;34m)\u001b[0m\u001b[0;34m:\u001b[0m\u001b[0;34m\u001b[0m\u001b[0;34m\u001b[0m\u001b[0m\n\u001b[0m\u001b[1;32m      5\u001b[0m             \u001b[0mprint\u001b[0m\u001b[0;34m(\u001b[0m\u001b[0;34m'less that 100 Mb RAM available, freezing'\u001b[0m\u001b[0;34m)\u001b[0m\u001b[0;34m\u001b[0m\u001b[0;34m\u001b[0m\u001b[0m\n\u001b[1;32m      6\u001b[0m             \u001b[0mprint\u001b[0m\u001b[0;34m(\u001b[0m\u001b[0;34m'make sure everything is ok and use KeyboardInterrupt to continue'\u001b[0m\u001b[0;34m)\u001b[0m\u001b[0;34m\u001b[0m\u001b[0;34m\u001b[0m\u001b[0m\n",
      "\u001b[0;32m/content/utils.py\u001b[0m in \u001b[0;36mis_enough_ram\u001b[0;34m(min_available_gb)\u001b[0m\n\u001b[1;32m     70\u001b[0m \u001b[0;34m\u001b[0m\u001b[0m\n\u001b[1;32m     71\u001b[0m \u001b[0;32mdef\u001b[0m \u001b[0mis_enough_ram\u001b[0m\u001b[0;34m(\u001b[0m\u001b[0mmin_available_gb\u001b[0m\u001b[0;34m=\u001b[0m\u001b[0;36m0.1\u001b[0m\u001b[0;34m)\u001b[0m\u001b[0;34m:\u001b[0m\u001b[0;34m\u001b[0m\u001b[0;34m\u001b[0m\u001b[0m\n\u001b[0;32m---> 72\u001b[0;31m     \u001b[0mmem\u001b[0m \u001b[0;34m=\u001b[0m \u001b[0mpsutil\u001b[0m\u001b[0;34m.\u001b[0m\u001b[0mvirtual_memory\u001b[0m\u001b[0;34m(\u001b[0m\u001b[0;34m)\u001b[0m\u001b[0;34m\u001b[0m\u001b[0;34m\u001b[0m\u001b[0m\n\u001b[0m\u001b[1;32m     73\u001b[0m     \u001b[0;32mreturn\u001b[0m \u001b[0mmem\u001b[0m\u001b[0;34m.\u001b[0m\u001b[0mavailable\u001b[0m \u001b[0;34m>=\u001b[0m \u001b[0mmin_available_gb\u001b[0m \u001b[0;34m*\u001b[0m \u001b[0;34m(\u001b[0m\u001b[0;36m1024\u001b[0m \u001b[0;34m**\u001b[0m \u001b[0;36m3\u001b[0m\u001b[0;34m)\u001b[0m\u001b[0;34m\u001b[0m\u001b[0;34m\u001b[0m\u001b[0m\n\u001b[1;32m     74\u001b[0m \u001b[0;34m\u001b[0m\u001b[0m\n",
      "\u001b[0;32m/usr/local/lib/python3.10/dist-packages/psutil/__init__.py\u001b[0m in \u001b[0;36mvirtual_memory\u001b[0;34m()\u001b[0m\n\u001b[1;32m   1971\u001b[0m     \"\"\"\n\u001b[1;32m   1972\u001b[0m     \u001b[0;32mglobal\u001b[0m \u001b[0m_TOTAL_PHYMEM\u001b[0m\u001b[0;34m\u001b[0m\u001b[0;34m\u001b[0m\u001b[0m\n\u001b[0;32m-> 1973\u001b[0;31m     \u001b[0mret\u001b[0m \u001b[0;34m=\u001b[0m \u001b[0m_psplatform\u001b[0m\u001b[0;34m.\u001b[0m\u001b[0mvirtual_memory\u001b[0m\u001b[0;34m(\u001b[0m\u001b[0;34m)\u001b[0m\u001b[0;34m\u001b[0m\u001b[0;34m\u001b[0m\u001b[0m\n\u001b[0m\u001b[1;32m   1974\u001b[0m     \u001b[0;31m# cached for later use in Process.memory_percent()\u001b[0m\u001b[0;34m\u001b[0m\u001b[0;34m\u001b[0m\u001b[0m\n\u001b[1;32m   1975\u001b[0m     \u001b[0m_TOTAL_PHYMEM\u001b[0m \u001b[0;34m=\u001b[0m \u001b[0mret\u001b[0m\u001b[0;34m.\u001b[0m\u001b[0mtotal\u001b[0m\u001b[0;34m\u001b[0m\u001b[0;34m\u001b[0m\u001b[0m\n",
      "\u001b[0;32m/usr/local/lib/python3.10/dist-packages/psutil/_pslinux.py\u001b[0m in \u001b[0;36mvirtual_memory\u001b[0;34m()\u001b[0m\n\u001b[1;32m    414\u001b[0m     \u001b[0mmissing_fields\u001b[0m \u001b[0;34m=\u001b[0m \u001b[0;34m[\u001b[0m\u001b[0;34m]\u001b[0m\u001b[0;34m\u001b[0m\u001b[0;34m\u001b[0m\u001b[0m\n\u001b[1;32m    415\u001b[0m     \u001b[0mmems\u001b[0m \u001b[0;34m=\u001b[0m \u001b[0;34m{\u001b[0m\u001b[0;34m}\u001b[0m\u001b[0;34m\u001b[0m\u001b[0;34m\u001b[0m\u001b[0m\n\u001b[0;32m--> 416\u001b[0;31m     \u001b[0;32mwith\u001b[0m \u001b[0mopen_binary\u001b[0m\u001b[0;34m(\u001b[0m\u001b[0;34m'%s/meminfo'\u001b[0m \u001b[0;34m%\u001b[0m \u001b[0mget_procfs_path\u001b[0m\u001b[0;34m(\u001b[0m\u001b[0;34m)\u001b[0m\u001b[0;34m)\u001b[0m \u001b[0;32mas\u001b[0m \u001b[0mf\u001b[0m\u001b[0;34m:\u001b[0m\u001b[0;34m\u001b[0m\u001b[0;34m\u001b[0m\u001b[0m\n\u001b[0m\u001b[1;32m    417\u001b[0m         \u001b[0;32mfor\u001b[0m \u001b[0mline\u001b[0m \u001b[0;32min\u001b[0m \u001b[0mf\u001b[0m\u001b[0;34m:\u001b[0m\u001b[0;34m\u001b[0m\u001b[0;34m\u001b[0m\u001b[0m\n\u001b[1;32m    418\u001b[0m             \u001b[0mfields\u001b[0m \u001b[0;34m=\u001b[0m \u001b[0mline\u001b[0m\u001b[0;34m.\u001b[0m\u001b[0msplit\u001b[0m\u001b[0;34m(\u001b[0m\u001b[0;34m)\u001b[0m\u001b[0;34m\u001b[0m\u001b[0;34m\u001b[0m\u001b[0m\n",
      "\u001b[0;32m/usr/local/lib/python3.10/dist-packages/psutil/_common.py\u001b[0m in \u001b[0;36mopen_binary\u001b[0;34m(fname)\u001b[0m\n\u001b[1;32m    763\u001b[0m \u001b[0;34m\u001b[0m\u001b[0m\n\u001b[1;32m    764\u001b[0m \u001b[0;32mdef\u001b[0m \u001b[0mopen_binary\u001b[0m\u001b[0;34m(\u001b[0m\u001b[0mfname\u001b[0m\u001b[0;34m)\u001b[0m\u001b[0;34m:\u001b[0m\u001b[0;34m\u001b[0m\u001b[0;34m\u001b[0m\u001b[0m\n\u001b[0;32m--> 765\u001b[0;31m     \u001b[0;32mreturn\u001b[0m \u001b[0mopen\u001b[0m\u001b[0;34m(\u001b[0m\u001b[0mfname\u001b[0m\u001b[0;34m,\u001b[0m \u001b[0;34m\"rb\"\u001b[0m\u001b[0;34m,\u001b[0m \u001b[0mbuffering\u001b[0m\u001b[0;34m=\u001b[0m\u001b[0mFILE_READ_BUFFER_SIZE\u001b[0m\u001b[0;34m)\u001b[0m\u001b[0;34m\u001b[0m\u001b[0;34m\u001b[0m\u001b[0m\n\u001b[0m\u001b[1;32m    766\u001b[0m \u001b[0;34m\u001b[0m\u001b[0m\n\u001b[1;32m    767\u001b[0m \u001b[0;34m\u001b[0m\u001b[0m\n",
      "\u001b[0;31mKeyboardInterrupt\u001b[0m: "
     ]
    }
   ],
   "source": [
    "state, _ = env.reset()\n",
    "with trange(step, total_steps + 1) as progress_bar:\n",
    "    for step in progress_bar:\n",
    "        if not utils.is_enough_ram():\n",
    "            print('less that 100 Mb RAM available, freezing')\n",
    "            print('make sure everything is ok and use KeyboardInterrupt to continue')\n",
    "            wait_for_keyboard_interrupt()\n",
    "\n",
    "        agent.epsilon = utils.linear_decay(init_epsilon, final_epsilon, step, decay_steps)\n",
    "\n",
    "        # play\n",
    "        _, state = play_and_record(state, agent, env, exp_replay, timesteps_per_epoch)\n",
    "\n",
    "        # train\n",
    "        #<YOUR CODE: sample batch_size of data from experience replay>\n",
    "        # from debug\n",
    "        batch = exp_replay.sample(batch_size)\n",
    "        # <YOUR CODE: compute TD loss> from debug\n",
    "        loss = compute_td_loss(*batch, agent, target_network)\n",
    "\n",
    "\n",
    "        loss.backward()\n",
    "        grad_norm = nn.utils.clip_grad_norm_(agent.parameters(), max_grad_norm)\n",
    "        opt.step()\n",
    "        opt.zero_grad()\n",
    "\n",
    "        if step % loss_freq == 0:\n",
    "            td_loss_history.append(loss.data.cpu().item())\n",
    "            grad_norm_history.append(grad_norm.cpu())\n",
    "\n",
    "        if step % refresh_target_network_freq == 0:\n",
    "            # Load agent weights into target_network\n",
    "            #<YOUR CODE> from debug\n",
    "            target_network.load_state_dict(agent.state_dict())\n",
    "\n",
    "        if step % save_freq == 0:\n",
    "            torch.save(agent, 'agent_latest.pk')\n",
    "            torch.save(opt, 'opt_latest.pk')\n",
    "            torch.save(target_network, 'target_latest.pk')\n",
    "\n",
    "        if step % eval_freq == 0:\n",
    "            mean_rw_history.append(evaluate(\n",
    "                make_env(clip_rewards=True), agent, n_games=3 * n_lives, greedy=True, seed=step)\n",
    "            )\n",
    "            initial_state_q_values = agent.get_qvalues(\n",
    "                [make_env().reset(seed=step)[0]]\n",
    "            )\n",
    "            initial_state_v_history.append(np.max(initial_state_q_values))\n",
    "\n",
    "            clear_output(True)\n",
    "            print(\"buffer size = %i, epsilon = %.5f\" %\n",
    "                (len(exp_replay), agent.epsilon))\n",
    "\n",
    "            plt.figure(figsize=[16, 9])\n",
    "\n",
    "            plt.subplot(2, 2, 1)\n",
    "            plt.title(\"Mean reward per life\")\n",
    "            plt.plot(mean_rw_history)\n",
    "            plt.grid()\n",
    "\n",
    "            assert not np.isnan(td_loss_history[-1])\n",
    "            plt.subplot(2, 2, 2)\n",
    "            plt.title(\"TD loss history (smoothened)\")\n",
    "            plt.plot(utils.smoothen(td_loss_history))\n",
    "            plt.grid()\n",
    "\n",
    "            plt.subplot(2, 2, 3)\n",
    "            plt.title(\"Initial state V\")\n",
    "            plt.plot(initial_state_v_history)\n",
    "            plt.grid()\n",
    "\n",
    "            plt.subplot(2, 2, 4)\n",
    "            plt.title(\"Grad norm history (smoothened)\")\n",
    "            plt.plot(utils.smoothen(grad_norm_history))\n",
    "            plt.grid()\n",
    "\n",
    "            plt.show()"
   ]
  },
  {
   "cell_type": "markdown",
   "metadata": {
    "id": "ZEDQhQrdsoUG"
   },
   "source": [
    "Agent is evaluated for 1 life, not for a whole episode of 5 lives. Rewards in evaluation are also truncated. Cuz this is what environment the agent is learning in and in this way mean rewards per life can be compared with initial state value\n",
    "\n",
    "**The goal is to get 15 points in the real env**. So 3 or better 4 points in the preprocessed one will probably be enough. You can interrupt learning then."
   ]
  },
  {
   "cell_type": "markdown",
   "metadata": {
    "id": "s0jLjYGwsoUG"
   },
   "source": [
    "Final scoring is done on a whole episode with all 5 lives."
   ]
  },
  {
   "cell_type": "code",
   "execution_count": 44,
   "metadata": {
    "colab": {
     "base_uri": "https://localhost:8080/"
    },
    "id": "xTGVrwwQsoUG",
    "outputId": "27b3ff2f-983c-4818-a49a-4e59902faab5"
   },
   "outputs": [
    {
     "name": "stdout",
     "output_type": "stream",
     "text": [
      "final score: 5.0\n",
      "Cool!\n"
     ]
    }
   ],
   "source": [
    "final_score = evaluate(\n",
    "  make_env(clip_rewards=False),\n",
    "    agent, n_games=30, greedy=True, t_max=10 * 1000, seed=9\n",
    ")\n",
    "print('final score:', final_score)\n",
    "assert final_score >= 3, 'not as cool as DQN can'\n",
    "print('Cool!')"
   ]
  },
  {
   "cell_type": "markdown",
   "metadata": {
    "id": "ovaG8N4lsoUH"
   },
   "source": [
    "## How to interpret plots:\n",
    "\n",
    "This aint no supervised learning so don't expect anything to improve monotonously.\n",
    "* **TD loss** is the MSE between agent's current Q-values and target Q-values. It may slowly increase or decrease, it's ok. The \"not ok\" behavior includes going NaN or stayng at exactly zero before agent has perfect performance.\n",
    "* **grad norm** just shows the intensivity of training. Not ok is growing to values of about 100 (or maybe even 50) though it depends on network architecture.\n",
    "* **mean reward** is the expected sum of r(s,a) agent gets over the full game session. It will oscillate, but on average it should get higher over time (after a few thousand iterations...).\n",
    " * In basic q-learning implementation it takes about 40k steps to \"warm up\" agent before it starts to get better.\n",
    "* **Initial state V** is the expected discounted reward for episode in the oppinion of the agent. It should behave more smoothly than **mean reward**. It should get higher over time but sometimes can experience drawdowns because of the agaent's overestimates.\n",
    "* **buffer size** - this one is simple. It should go up and cap at max size.\n",
    "* **epsilon** - agent's willingness to explore. If you see that agent's already at 0.01 epsilon before it's average reward is above 0 - it means you need to increase epsilon. Set it back to some 0.2 - 0.5 and decrease the pace at which it goes down.\n",
    "* Smoothing of plots is done with a gaussian kernel\n",
    "\n",
    "At first your agent will lose quickly. Then it will learn to suck less and at least hit the ball a few times before it loses. Finally it will learn to actually score points.\n",
    "\n",
    "**Training will take time.** A lot of it actually. Probably you will not see any improvment during first **150k** time steps (note that by default in this notebook agent is evaluated every 5000 time steps).\n",
    "\n",
    "But hey, long training time isn't _that_ bad:\n",
    "![img](https://github.com/yandexdataschool/Practical_RL/raw/master/yet_another_week/_resource/training.png)"
   ]
  },
  {
   "cell_type": "markdown",
   "metadata": {
    "id": "kVV72AB-soUH"
   },
   "source": [
    "## About hyperparameters:\n",
    "\n",
    "The task has something in common with supervised learning: loss is optimized through the buffer (instead of Train dataset). But the distribution of states and actions in the buffer **is not stationary** and depends on the policy that generated it. It can even happen that the mean TD error across the buffer is very low but the performance is extremely poor (imagine the agent collecting data to the buffer always manages to avoid the ball).\n",
    "\n",
    "* Total timesteps and training time: It seems to be so huge, but actually it is normal for RL.\n",
    "\n",
    "* $\\epsilon$ decay shedule was taken from the original paper and is like traditional for epsilon-greedy policies. At the beginning of the training the agent's greedy policy is poor so many random actions should be taken.\n",
    "\n",
    "* Optimizer: In the original paper RMSProp was used (they did not have Adam in 2013) and it can work not worse than Adam. For us Adam was default and it worked.\n",
    "\n",
    "* lr: $10^{-3}$ would probably be too huge\n",
    "\n",
    "* batch size: This one can be very important: if it is too small the agent can fail to learn. Huge batch takes more time to process. If batch of size 8 can not be processed on the hardware you use take 2 (or even 4) batches of size 4, divide the loss on them by 2 (or 4) and make optimization step after both backward() calls in torch.\n",
    "\n",
    "* target network update frequency: has something in common with learning rate. Too frequent updates can lead to divergence. Too rare can lead to slow leraning. For millions of total timesteps thousands of inner steps seem ok. One iteration of target network updating is an iteration of the (this time approximate) $\\gamma$-compression that stands behind Q-learning. The more inner steps it makes the more accurate is the compression.\n",
    "* max_grad_norm - just huge enough. In torch clip_grad_norm also evaluates the norm before clipping and it can be convenient for logging."
   ]
  },
  {
   "cell_type": "markdown",
   "metadata": {
    "id": "Plp8WC_esoUH"
   },
   "source": [
    "### Video"
   ]
  },
  {
   "cell_type": "code",
   "execution_count": 45,
   "metadata": {
    "colab": {
     "base_uri": "https://localhost:8080/"
    },
    "id": "DdExc_AssoUH",
    "outputId": "97bfbe04-f949-4d6f-d6d0-b80850ca9f32"
   },
   "outputs": [
    {
     "name": "stderr",
     "output_type": "stream",
     "text": [
      "/usr/local/lib/python3.10/dist-packages/gymnasium/utils/passive_env_checker.py:335: UserWarning: \u001b[33mWARN: No render fps was declared in the environment (env.metadata['render_fps'] is None or not defined), rendering may occur at inconsistent fps.\u001b[0m\n",
      "  logger.warn(\n"
     ]
    },
    {
     "name": "stdout",
     "output_type": "stream",
     "text": [
      "Moviepy - Building video /content/videos/rl-video-episode-0.mp4.\n",
      "Moviepy - Writing video /content/videos/rl-video-episode-0.mp4\n",
      "\n"
     ]
    },
    {
     "name": "stderr",
     "output_type": "stream",
     "text": []
    },
    {
     "name": "stdout",
     "output_type": "stream",
     "text": [
      "Moviepy - Done !\n",
      "Moviepy - video ready /content/videos/rl-video-episode-0.mp4\n",
      "Moviepy - Building video /content/videos/rl-video-episode-1.mp4.\n",
      "Moviepy - Writing video /content/videos/rl-video-episode-1.mp4\n",
      "\n"
     ]
    },
    {
     "name": "stderr",
     "output_type": "stream",
     "text": [
      "                                                                "
     ]
    },
    {
     "name": "stdout",
     "output_type": "stream",
     "text": [
      "Moviepy - Done !\n",
      "Moviepy - video ready /content/videos/rl-video-episode-1.mp4\n"
     ]
    },
    {
     "name": "stderr",
     "output_type": "stream",
     "text": [
      "\r"
     ]
    },
    {
     "name": "stdout",
     "output_type": "stream",
     "text": [
      "Moviepy - Building video /content/videos/rl-video-episode-2.mp4.\n",
      "Moviepy - Writing video /content/videos/rl-video-episode-2.mp4\n",
      "\n"
     ]
    },
    {
     "name": "stderr",
     "output_type": "stream",
     "text": [
      "                                                                "
     ]
    },
    {
     "name": "stdout",
     "output_type": "stream",
     "text": [
      "Moviepy - Done !\n",
      "Moviepy - video ready /content/videos/rl-video-episode-2.mp4\n"
     ]
    },
    {
     "name": "stderr",
     "output_type": "stream",
     "text": [
      "\r"
     ]
    },
    {
     "name": "stdout",
     "output_type": "stream",
     "text": [
      "Moviepy - Building video /content/videos/rl-video-episode-3.mp4.\n",
      "Moviepy - Writing video /content/videos/rl-video-episode-3.mp4\n",
      "\n"
     ]
    },
    {
     "name": "stderr",
     "output_type": "stream",
     "text": [
      "                                                                "
     ]
    },
    {
     "name": "stdout",
     "output_type": "stream",
     "text": [
      "Moviepy - Done !\n",
      "Moviepy - video ready /content/videos/rl-video-episode-3.mp4\n"
     ]
    },
    {
     "name": "stderr",
     "output_type": "stream",
     "text": [
      "\r"
     ]
    },
    {
     "name": "stdout",
     "output_type": "stream",
     "text": [
      "Moviepy - Building video /content/videos/rl-video-episode-4.mp4.\n",
      "Moviepy - Writing video /content/videos/rl-video-episode-4.mp4\n",
      "\n"
     ]
    },
    {
     "name": "stderr",
     "output_type": "stream",
     "text": [
      "                                                   "
     ]
    },
    {
     "name": "stdout",
     "output_type": "stream",
     "text": [
      "Moviepy - Done !\n",
      "Moviepy - video ready /content/videos/rl-video-episode-4.mp4\n"
     ]
    },
    {
     "name": "stderr",
     "output_type": "stream",
     "text": [
      "\r"
     ]
    },
    {
     "name": "stdout",
     "output_type": "stream",
     "text": [
      "Moviepy - Building video /content/videos/rl-video-episode-5.mp4.\n",
      "Moviepy - Writing video /content/videos/rl-video-episode-5.mp4\n",
      "\n"
     ]
    },
    {
     "name": "stderr",
     "output_type": "stream",
     "text": [
      "                                                                "
     ]
    },
    {
     "name": "stdout",
     "output_type": "stream",
     "text": [
      "Moviepy - Done !\n",
      "Moviepy - video ready /content/videos/rl-video-episode-5.mp4\n"
     ]
    },
    {
     "name": "stderr",
     "output_type": "stream",
     "text": [
      "\r"
     ]
    },
    {
     "name": "stdout",
     "output_type": "stream",
     "text": [
      "Moviepy - Building video /content/videos/rl-video-episode-6.mp4.\n",
      "Moviepy - Writing video /content/videos/rl-video-episode-6.mp4\n",
      "\n"
     ]
    },
    {
     "name": "stderr",
     "output_type": "stream",
     "text": [
      "                                                                "
     ]
    },
    {
     "name": "stdout",
     "output_type": "stream",
     "text": [
      "Moviepy - Done !\n",
      "Moviepy - video ready /content/videos/rl-video-episode-6.mp4\n"
     ]
    },
    {
     "name": "stderr",
     "output_type": "stream",
     "text": [
      "\r"
     ]
    },
    {
     "name": "stdout",
     "output_type": "stream",
     "text": [
      "Moviepy - Building video /content/videos/rl-video-episode-7.mp4.\n",
      "Moviepy - Writing video /content/videos/rl-video-episode-7.mp4\n",
      "\n"
     ]
    },
    {
     "name": "stderr",
     "output_type": "stream",
     "text": [
      "                                                                "
     ]
    },
    {
     "name": "stdout",
     "output_type": "stream",
     "text": [
      "Moviepy - Done !\n",
      "Moviepy - video ready /content/videos/rl-video-episode-7.mp4\n"
     ]
    },
    {
     "name": "stderr",
     "output_type": "stream",
     "text": [
      "\r"
     ]
    },
    {
     "name": "stdout",
     "output_type": "stream",
     "text": [
      "Moviepy - Building video /content/videos/rl-video-episode-8.mp4.\n",
      "Moviepy - Writing video /content/videos/rl-video-episode-8.mp4\n",
      "\n"
     ]
    },
    {
     "name": "stderr",
     "output_type": "stream",
     "text": [
      "                                                   "
     ]
    },
    {
     "name": "stdout",
     "output_type": "stream",
     "text": [
      "Moviepy - Done !\n",
      "Moviepy - video ready /content/videos/rl-video-episode-8.mp4\n"
     ]
    },
    {
     "name": "stderr",
     "output_type": "stream",
     "text": [
      "\r"
     ]
    },
    {
     "name": "stdout",
     "output_type": "stream",
     "text": [
      "Moviepy - Building video /content/videos/rl-video-episode-9.mp4.\n",
      "Moviepy - Writing video /content/videos/rl-video-episode-9.mp4\n",
      "\n"
     ]
    },
    {
     "name": "stderr",
     "output_type": "stream",
     "text": [
      "                                                   "
     ]
    },
    {
     "name": "stdout",
     "output_type": "stream",
     "text": [
      "Moviepy - Done !\n",
      "Moviepy - video ready /content/videos/rl-video-episode-9.mp4\n"
     ]
    },
    {
     "name": "stderr",
     "output_type": "stream",
     "text": [
      "\r"
     ]
    },
    {
     "name": "stdout",
     "output_type": "stream",
     "text": [
      "Moviepy - Building video /content/videos/rl-video-episode-10.mp4.\n",
      "Moviepy - Writing video /content/videos/rl-video-episode-10.mp4\n",
      "\n"
     ]
    },
    {
     "name": "stderr",
     "output_type": "stream",
     "text": [
      "                                                    "
     ]
    },
    {
     "name": "stdout",
     "output_type": "stream",
     "text": [
      "Moviepy - Done !\n",
      "Moviepy - video ready /content/videos/rl-video-episode-10.mp4\n"
     ]
    },
    {
     "name": "stderr",
     "output_type": "stream",
     "text": [
      "\r"
     ]
    },
    {
     "name": "stdout",
     "output_type": "stream",
     "text": [
      "Moviepy - Building video /content/videos/rl-video-episode-11.mp4.\n",
      "Moviepy - Writing video /content/videos/rl-video-episode-11.mp4\n",
      "\n"
     ]
    },
    {
     "name": "stderr",
     "output_type": "stream",
     "text": [
      "                                                                "
     ]
    },
    {
     "name": "stdout",
     "output_type": "stream",
     "text": [
      "Moviepy - Done !\n",
      "Moviepy - video ready /content/videos/rl-video-episode-11.mp4\n"
     ]
    },
    {
     "name": "stderr",
     "output_type": "stream",
     "text": [
      "\r"
     ]
    },
    {
     "name": "stdout",
     "output_type": "stream",
     "text": [
      "Moviepy - Building video /content/videos/rl-video-episode-12.mp4.\n",
      "Moviepy - Writing video /content/videos/rl-video-episode-12.mp4\n",
      "\n"
     ]
    },
    {
     "name": "stderr",
     "output_type": "stream",
     "text": []
    },
    {
     "name": "stdout",
     "output_type": "stream",
     "text": [
      "Moviepy - Done !\n",
      "Moviepy - video ready /content/videos/rl-video-episode-12.mp4\n",
      "Moviepy - Building video /content/videos/rl-video-episode-13.mp4.\n",
      "Moviepy - Writing video /content/videos/rl-video-episode-13.mp4\n",
      "\n"
     ]
    },
    {
     "name": "stderr",
     "output_type": "stream",
     "text": [
      "                                                              "
     ]
    },
    {
     "name": "stdout",
     "output_type": "stream",
     "text": [
      "Moviepy - Done !\n",
      "Moviepy - video ready /content/videos/rl-video-episode-13.mp4\n"
     ]
    },
    {
     "name": "stderr",
     "output_type": "stream",
     "text": [
      "\r"
     ]
    },
    {
     "name": "stdout",
     "output_type": "stream",
     "text": [
      "Moviepy - Building video /content/videos/rl-video-episode-14.mp4.\n",
      "Moviepy - Writing video /content/videos/rl-video-episode-14.mp4\n",
      "\n"
     ]
    },
    {
     "name": "stderr",
     "output_type": "stream",
     "text": [
      "                                                   "
     ]
    },
    {
     "name": "stdout",
     "output_type": "stream",
     "text": [
      "Moviepy - Done !\n",
      "Moviepy - video ready /content/videos/rl-video-episode-14.mp4\n"
     ]
    },
    {
     "name": "stderr",
     "output_type": "stream",
     "text": [
      "\r"
     ]
    },
    {
     "name": "stdout",
     "output_type": "stream",
     "text": [
      "Moviepy - Building video /content/videos/rl-video-episode-15.mp4.\n",
      "Moviepy - Writing video /content/videos/rl-video-episode-15.mp4\n",
      "\n"
     ]
    },
    {
     "name": "stderr",
     "output_type": "stream",
     "text": [
      "                                                                "
     ]
    },
    {
     "name": "stdout",
     "output_type": "stream",
     "text": [
      "Moviepy - Done !\n",
      "Moviepy - video ready /content/videos/rl-video-episode-15.mp4\n"
     ]
    },
    {
     "name": "stderr",
     "output_type": "stream",
     "text": [
      "\r"
     ]
    },
    {
     "name": "stdout",
     "output_type": "stream",
     "text": [
      "Moviepy - Building video /content/videos/rl-video-episode-16.mp4.\n",
      "Moviepy - Writing video /content/videos/rl-video-episode-16.mp4\n",
      "\n"
     ]
    },
    {
     "name": "stderr",
     "output_type": "stream",
     "text": []
    },
    {
     "name": "stdout",
     "output_type": "stream",
     "text": [
      "Moviepy - Done !\n",
      "Moviepy - video ready /content/videos/rl-video-episode-16.mp4\n",
      "Moviepy - Building video /content/videos/rl-video-episode-17.mp4.\n",
      "Moviepy - Writing video /content/videos/rl-video-episode-17.mp4\n",
      "\n"
     ]
    },
    {
     "name": "stderr",
     "output_type": "stream",
     "text": [
      "                                                   "
     ]
    },
    {
     "name": "stdout",
     "output_type": "stream",
     "text": [
      "Moviepy - Done !\n",
      "Moviepy - video ready /content/videos/rl-video-episode-17.mp4\n"
     ]
    },
    {
     "name": "stderr",
     "output_type": "stream",
     "text": [
      "\r"
     ]
    },
    {
     "name": "stdout",
     "output_type": "stream",
     "text": [
      "Moviepy - Building video /content/videos/rl-video-episode-18.mp4.\n",
      "Moviepy - Writing video /content/videos/rl-video-episode-18.mp4\n",
      "\n"
     ]
    },
    {
     "name": "stderr",
     "output_type": "stream",
     "text": [
      "                                                   "
     ]
    },
    {
     "name": "stdout",
     "output_type": "stream",
     "text": [
      "Moviepy - Done !\n",
      "Moviepy - video ready /content/videos/rl-video-episode-18.mp4\n"
     ]
    },
    {
     "name": "stderr",
     "output_type": "stream",
     "text": [
      "\r"
     ]
    },
    {
     "name": "stdout",
     "output_type": "stream",
     "text": [
      "Moviepy - Building video /content/videos/rl-video-episode-19.mp4.\n",
      "Moviepy - Writing video /content/videos/rl-video-episode-19.mp4\n",
      "\n"
     ]
    },
    {
     "name": "stderr",
     "output_type": "stream",
     "text": [
      "                                                   "
     ]
    },
    {
     "name": "stdout",
     "output_type": "stream",
     "text": [
      "Moviepy - Done !\n",
      "Moviepy - video ready /content/videos/rl-video-episode-19.mp4\n"
     ]
    },
    {
     "name": "stderr",
     "output_type": "stream",
     "text": [
      "\r"
     ]
    },
    {
     "name": "stdout",
     "output_type": "stream",
     "text": [
      "Moviepy - Building video /content/videos/rl-video-episode-20.mp4.\n",
      "Moviepy - Writing video /content/videos/rl-video-episode-20.mp4\n",
      "\n"
     ]
    },
    {
     "name": "stderr",
     "output_type": "stream",
     "text": [
      "                                                                "
     ]
    },
    {
     "name": "stdout",
     "output_type": "stream",
     "text": [
      "Moviepy - Done !\n",
      "Moviepy - video ready /content/videos/rl-video-episode-20.mp4\n"
     ]
    },
    {
     "name": "stderr",
     "output_type": "stream",
     "text": [
      "\r"
     ]
    },
    {
     "name": "stdout",
     "output_type": "stream",
     "text": [
      "Moviepy - Building video /content/videos/rl-video-episode-21.mp4.\n",
      "Moviepy - Writing video /content/videos/rl-video-episode-21.mp4\n",
      "\n"
     ]
    },
    {
     "name": "stderr",
     "output_type": "stream",
     "text": [
      "                                                                "
     ]
    },
    {
     "name": "stdout",
     "output_type": "stream",
     "text": [
      "Moviepy - Done !\n",
      "Moviepy - video ready /content/videos/rl-video-episode-21.mp4\n"
     ]
    },
    {
     "name": "stderr",
     "output_type": "stream",
     "text": [
      "\r"
     ]
    },
    {
     "name": "stdout",
     "output_type": "stream",
     "text": [
      "Moviepy - Building video /content/videos/rl-video-episode-22.mp4.\n",
      "Moviepy - Writing video /content/videos/rl-video-episode-22.mp4\n",
      "\n"
     ]
    },
    {
     "name": "stderr",
     "output_type": "stream",
     "text": [
      "                                                                "
     ]
    },
    {
     "name": "stdout",
     "output_type": "stream",
     "text": [
      "Moviepy - Done !\n",
      "Moviepy - video ready /content/videos/rl-video-episode-22.mp4\n"
     ]
    },
    {
     "name": "stderr",
     "output_type": "stream",
     "text": [
      "\r"
     ]
    },
    {
     "name": "stdout",
     "output_type": "stream",
     "text": [
      "Moviepy - Building video /content/videos/rl-video-episode-23.mp4.\n",
      "Moviepy - Writing video /content/videos/rl-video-episode-23.mp4\n",
      "\n"
     ]
    },
    {
     "name": "stderr",
     "output_type": "stream",
     "text": [
      "                                                   "
     ]
    },
    {
     "name": "stdout",
     "output_type": "stream",
     "text": [
      "Moviepy - Done !\n",
      "Moviepy - video ready /content/videos/rl-video-episode-23.mp4\n"
     ]
    },
    {
     "name": "stderr",
     "output_type": "stream",
     "text": [
      "\r"
     ]
    },
    {
     "name": "stdout",
     "output_type": "stream",
     "text": [
      "Moviepy - Building video /content/videos/rl-video-episode-24.mp4.\n",
      "Moviepy - Writing video /content/videos/rl-video-episode-24.mp4\n",
      "\n"
     ]
    },
    {
     "name": "stderr",
     "output_type": "stream",
     "text": [
      "                                                   "
     ]
    },
    {
     "name": "stdout",
     "output_type": "stream",
     "text": [
      "Moviepy - Done !\n",
      "Moviepy - video ready /content/videos/rl-video-episode-24.mp4\n"
     ]
    },
    {
     "name": "stderr",
     "output_type": "stream",
     "text": [
      "\r"
     ]
    },
    {
     "name": "stdout",
     "output_type": "stream",
     "text": [
      "Moviepy - Building video /content/videos/rl-video-episode-25.mp4.\n",
      "Moviepy - Writing video /content/videos/rl-video-episode-25.mp4\n",
      "\n"
     ]
    },
    {
     "name": "stderr",
     "output_type": "stream",
     "text": [
      "                                                    "
     ]
    },
    {
     "name": "stdout",
     "output_type": "stream",
     "text": [
      "Moviepy - Done !\n",
      "Moviepy - video ready /content/videos/rl-video-episode-25.mp4\n"
     ]
    },
    {
     "name": "stderr",
     "output_type": "stream",
     "text": [
      "\r"
     ]
    },
    {
     "name": "stdout",
     "output_type": "stream",
     "text": [
      "Moviepy - Building video /content/videos/rl-video-episode-26.mp4.\n",
      "Moviepy - Writing video /content/videos/rl-video-episode-26.mp4\n",
      "\n"
     ]
    },
    {
     "name": "stderr",
     "output_type": "stream",
     "text": []
    },
    {
     "name": "stdout",
     "output_type": "stream",
     "text": [
      "Moviepy - Done !\n",
      "Moviepy - video ready /content/videos/rl-video-episode-26.mp4\n",
      "Moviepy - Building video /content/videos/rl-video-episode-27.mp4.\n",
      "Moviepy - Writing video /content/videos/rl-video-episode-27.mp4\n",
      "\n"
     ]
    },
    {
     "name": "stderr",
     "output_type": "stream",
     "text": [
      "                                                   "
     ]
    },
    {
     "name": "stdout",
     "output_type": "stream",
     "text": [
      "Moviepy - Done !\n",
      "Moviepy - video ready /content/videos/rl-video-episode-27.mp4\n"
     ]
    },
    {
     "name": "stderr",
     "output_type": "stream",
     "text": [
      "\r"
     ]
    },
    {
     "name": "stdout",
     "output_type": "stream",
     "text": [
      "Moviepy - Building video /content/videos/rl-video-episode-28.mp4.\n",
      "Moviepy - Writing video /content/videos/rl-video-episode-28.mp4\n",
      "\n"
     ]
    },
    {
     "name": "stderr",
     "output_type": "stream",
     "text": [
      "                                                   "
     ]
    },
    {
     "name": "stdout",
     "output_type": "stream",
     "text": [
      "Moviepy - Done !\n",
      "Moviepy - video ready /content/videos/rl-video-episode-28.mp4\n"
     ]
    },
    {
     "name": "stderr",
     "output_type": "stream",
     "text": [
      "\r"
     ]
    },
    {
     "name": "stdout",
     "output_type": "stream",
     "text": [
      "Moviepy - Building video /content/videos/rl-video-episode-29.mp4.\n",
      "Moviepy - Writing video /content/videos/rl-video-episode-29.mp4\n",
      "\n"
     ]
    },
    {
     "name": "stderr",
     "output_type": "stream",
     "text": [
      "                                                                "
     ]
    },
    {
     "name": "stdout",
     "output_type": "stream",
     "text": [
      "Moviepy - Done !\n",
      "Moviepy - video ready /content/videos/rl-video-episode-29.mp4\n"
     ]
    },
    {
     "name": "stderr",
     "output_type": "stream",
     "text": [
      "\r"
     ]
    },
    {
     "name": "stdout",
     "output_type": "stream",
     "text": [
      "Moviepy - Building video /content/videos/rl-video-episode-30.mp4.\n",
      "Moviepy - Writing video /content/videos/rl-video-episode-30.mp4\n",
      "\n"
     ]
    },
    {
     "name": "stderr",
     "output_type": "stream",
     "text": [
      "                                                                "
     ]
    },
    {
     "name": "stdout",
     "output_type": "stream",
     "text": [
      "Moviepy - Done !\n",
      "Moviepy - video ready /content/videos/rl-video-episode-30.mp4\n"
     ]
    },
    {
     "name": "stderr",
     "output_type": "stream",
     "text": [
      "\r"
     ]
    },
    {
     "name": "stdout",
     "output_type": "stream",
     "text": [
      "Moviepy - Building video /content/videos/rl-video-episode-31.mp4.\n",
      "Moviepy - Writing video /content/videos/rl-video-episode-31.mp4\n",
      "\n"
     ]
    },
    {
     "name": "stderr",
     "output_type": "stream",
     "text": [
      "                                                    "
     ]
    },
    {
     "name": "stdout",
     "output_type": "stream",
     "text": [
      "Moviepy - Done !\n",
      "Moviepy - video ready /content/videos/rl-video-episode-31.mp4\n"
     ]
    },
    {
     "name": "stderr",
     "output_type": "stream",
     "text": [
      "\r"
     ]
    },
    {
     "name": "stdout",
     "output_type": "stream",
     "text": [
      "Moviepy - Building video /content/videos/rl-video-episode-32.mp4.\n",
      "Moviepy - Writing video /content/videos/rl-video-episode-32.mp4\n",
      "\n"
     ]
    },
    {
     "name": "stderr",
     "output_type": "stream",
     "text": [
      "                                                   "
     ]
    },
    {
     "name": "stdout",
     "output_type": "stream",
     "text": [
      "Moviepy - Done !\n",
      "Moviepy - video ready /content/videos/rl-video-episode-32.mp4\n"
     ]
    },
    {
     "name": "stderr",
     "output_type": "stream",
     "text": [
      "\r"
     ]
    },
    {
     "name": "stdout",
     "output_type": "stream",
     "text": [
      "Moviepy - Building video /content/videos/rl-video-episode-33.mp4.\n",
      "Moviepy - Writing video /content/videos/rl-video-episode-33.mp4\n",
      "\n"
     ]
    },
    {
     "name": "stderr",
     "output_type": "stream",
     "text": [
      "                                                   "
     ]
    },
    {
     "name": "stdout",
     "output_type": "stream",
     "text": [
      "Moviepy - Done !\n",
      "Moviepy - video ready /content/videos/rl-video-episode-33.mp4\n"
     ]
    },
    {
     "name": "stderr",
     "output_type": "stream",
     "text": [
      "\r"
     ]
    },
    {
     "name": "stdout",
     "output_type": "stream",
     "text": [
      "Moviepy - Building video /content/videos/rl-video-episode-34.mp4.\n",
      "Moviepy - Writing video /content/videos/rl-video-episode-34.mp4\n",
      "\n"
     ]
    },
    {
     "name": "stderr",
     "output_type": "stream",
     "text": [
      "                                                   "
     ]
    },
    {
     "name": "stdout",
     "output_type": "stream",
     "text": [
      "Moviepy - Done !\n",
      "Moviepy - video ready /content/videos/rl-video-episode-34.mp4\n"
     ]
    },
    {
     "name": "stderr",
     "output_type": "stream",
     "text": [
      "\r"
     ]
    },
    {
     "name": "stdout",
     "output_type": "stream",
     "text": [
      "Moviepy - Building video /content/videos/rl-video-episode-35.mp4.\n",
      "Moviepy - Writing video /content/videos/rl-video-episode-35.mp4\n",
      "\n"
     ]
    },
    {
     "name": "stderr",
     "output_type": "stream",
     "text": []
    },
    {
     "name": "stdout",
     "output_type": "stream",
     "text": [
      "Moviepy - Done !\n",
      "Moviepy - video ready /content/videos/rl-video-episode-35.mp4\n",
      "Moviepy - Building video /content/videos/rl-video-episode-36.mp4.\n",
      "Moviepy - Writing video /content/videos/rl-video-episode-36.mp4\n",
      "\n"
     ]
    },
    {
     "name": "stderr",
     "output_type": "stream",
     "text": [
      "                                                                "
     ]
    },
    {
     "name": "stdout",
     "output_type": "stream",
     "text": [
      "Moviepy - Done !\n",
      "Moviepy - video ready /content/videos/rl-video-episode-36.mp4\n"
     ]
    },
    {
     "name": "stderr",
     "output_type": "stream",
     "text": [
      "\r"
     ]
    },
    {
     "name": "stdout",
     "output_type": "stream",
     "text": [
      "Moviepy - Building video /content/videos/rl-video-episode-37.mp4.\n",
      "Moviepy - Writing video /content/videos/rl-video-episode-37.mp4\n",
      "\n"
     ]
    },
    {
     "name": "stderr",
     "output_type": "stream",
     "text": [
      "                                                                "
     ]
    },
    {
     "name": "stdout",
     "output_type": "stream",
     "text": [
      "Moviepy - Done !\n",
      "Moviepy - video ready /content/videos/rl-video-episode-37.mp4\n"
     ]
    },
    {
     "name": "stderr",
     "output_type": "stream",
     "text": [
      "\r"
     ]
    },
    {
     "name": "stdout",
     "output_type": "stream",
     "text": [
      "Moviepy - Building video /content/videos/rl-video-episode-38.mp4.\n",
      "Moviepy - Writing video /content/videos/rl-video-episode-38.mp4\n",
      "\n"
     ]
    },
    {
     "name": "stderr",
     "output_type": "stream",
     "text": [
      "                                                   "
     ]
    },
    {
     "name": "stdout",
     "output_type": "stream",
     "text": [
      "Moviepy - Done !\n",
      "Moviepy - video ready /content/videos/rl-video-episode-38.mp4\n"
     ]
    },
    {
     "name": "stderr",
     "output_type": "stream",
     "text": [
      "\r"
     ]
    },
    {
     "name": "stdout",
     "output_type": "stream",
     "text": [
      "Moviepy - Building video /content/videos/rl-video-episode-39.mp4.\n",
      "Moviepy - Writing video /content/videos/rl-video-episode-39.mp4\n",
      "\n"
     ]
    },
    {
     "name": "stderr",
     "output_type": "stream",
     "text": [
      "                                                   "
     ]
    },
    {
     "name": "stdout",
     "output_type": "stream",
     "text": [
      "Moviepy - Done !\n",
      "Moviepy - video ready /content/videos/rl-video-episode-39.mp4\n"
     ]
    },
    {
     "name": "stderr",
     "output_type": "stream",
     "text": [
      "\r"
     ]
    },
    {
     "name": "stdout",
     "output_type": "stream",
     "text": [
      "Moviepy - Building video /content/videos/rl-video-episode-40.mp4.\n",
      "Moviepy - Writing video /content/videos/rl-video-episode-40.mp4\n",
      "\n"
     ]
    },
    {
     "name": "stderr",
     "output_type": "stream",
     "text": [
      "                                                                "
     ]
    },
    {
     "name": "stdout",
     "output_type": "stream",
     "text": [
      "Moviepy - Done !\n",
      "Moviepy - video ready /content/videos/rl-video-episode-40.mp4\n"
     ]
    },
    {
     "name": "stderr",
     "output_type": "stream",
     "text": [
      "\r"
     ]
    },
    {
     "name": "stdout",
     "output_type": "stream",
     "text": [
      "Moviepy - Building video /content/videos/rl-video-episode-41.mp4.\n",
      "Moviepy - Writing video /content/videos/rl-video-episode-41.mp4\n",
      "\n"
     ]
    },
    {
     "name": "stderr",
     "output_type": "stream",
     "text": []
    },
    {
     "name": "stdout",
     "output_type": "stream",
     "text": [
      "Moviepy - Done !\n",
      "Moviepy - video ready /content/videos/rl-video-episode-41.mp4\n",
      "Moviepy - Building video /content/videos/rl-video-episode-42.mp4.\n",
      "Moviepy - Writing video /content/videos/rl-video-episode-42.mp4\n",
      "\n"
     ]
    },
    {
     "name": "stderr",
     "output_type": "stream",
     "text": [
      "                                                              "
     ]
    },
    {
     "name": "stdout",
     "output_type": "stream",
     "text": [
      "Moviepy - Done !\n",
      "Moviepy - video ready /content/videos/rl-video-episode-42.mp4\n"
     ]
    },
    {
     "name": "stderr",
     "output_type": "stream",
     "text": [
      "\r"
     ]
    },
    {
     "name": "stdout",
     "output_type": "stream",
     "text": [
      "Moviepy - Building video /content/videos/rl-video-episode-43.mp4.\n",
      "Moviepy - Writing video /content/videos/rl-video-episode-43.mp4\n",
      "\n"
     ]
    },
    {
     "name": "stderr",
     "output_type": "stream",
     "text": [
      "                                                    "
     ]
    },
    {
     "name": "stdout",
     "output_type": "stream",
     "text": [
      "Moviepy - Done !\n",
      "Moviepy - video ready /content/videos/rl-video-episode-43.mp4\n"
     ]
    },
    {
     "name": "stderr",
     "output_type": "stream",
     "text": [
      "\r"
     ]
    },
    {
     "name": "stdout",
     "output_type": "stream",
     "text": [
      "Moviepy - Building video /content/videos/rl-video-episode-44.mp4.\n",
      "Moviepy - Writing video /content/videos/rl-video-episode-44.mp4\n",
      "\n"
     ]
    },
    {
     "name": "stderr",
     "output_type": "stream",
     "text": [
      "                                                    "
     ]
    },
    {
     "name": "stdout",
     "output_type": "stream",
     "text": [
      "Moviepy - Done !\n",
      "Moviepy - video ready /content/videos/rl-video-episode-44.mp4\n"
     ]
    },
    {
     "name": "stderr",
     "output_type": "stream",
     "text": [
      "\r"
     ]
    },
    {
     "name": "stdout",
     "output_type": "stream",
     "text": [
      "Moviepy - Building video /content/videos/rl-video-episode-45.mp4.\n",
      "Moviepy - Writing video /content/videos/rl-video-episode-45.mp4\n",
      "\n"
     ]
    },
    {
     "name": "stderr",
     "output_type": "stream",
     "text": [
      "                                                                "
     ]
    },
    {
     "name": "stdout",
     "output_type": "stream",
     "text": [
      "Moviepy - Done !\n",
      "Moviepy - video ready /content/videos/rl-video-episode-45.mp4\n"
     ]
    },
    {
     "name": "stderr",
     "output_type": "stream",
     "text": [
      "\r"
     ]
    },
    {
     "name": "stdout",
     "output_type": "stream",
     "text": [
      "Moviepy - Building video /content/videos/rl-video-episode-46.mp4.\n",
      "Moviepy - Writing video /content/videos/rl-video-episode-46.mp4\n",
      "\n"
     ]
    },
    {
     "name": "stderr",
     "output_type": "stream",
     "text": [
      "                                                                "
     ]
    },
    {
     "name": "stdout",
     "output_type": "stream",
     "text": [
      "Moviepy - Done !\n",
      "Moviepy - video ready /content/videos/rl-video-episode-46.mp4\n"
     ]
    },
    {
     "name": "stderr",
     "output_type": "stream",
     "text": [
      "\r"
     ]
    },
    {
     "name": "stdout",
     "output_type": "stream",
     "text": [
      "Moviepy - Building video /content/videos/rl-video-episode-47.mp4.\n",
      "Moviepy - Writing video /content/videos/rl-video-episode-47.mp4\n",
      "\n"
     ]
    },
    {
     "name": "stderr",
     "output_type": "stream",
     "text": [
      "                                                                "
     ]
    },
    {
     "name": "stdout",
     "output_type": "stream",
     "text": [
      "Moviepy - Done !\n",
      "Moviepy - video ready /content/videos/rl-video-episode-47.mp4\n"
     ]
    },
    {
     "name": "stderr",
     "output_type": "stream",
     "text": [
      "\r"
     ]
    },
    {
     "name": "stdout",
     "output_type": "stream",
     "text": [
      "Moviepy - Building video /content/videos/rl-video-episode-48.mp4.\n",
      "Moviepy - Writing video /content/videos/rl-video-episode-48.mp4\n",
      "\n"
     ]
    },
    {
     "name": "stderr",
     "output_type": "stream",
     "text": [
      "                                                                "
     ]
    },
    {
     "name": "stdout",
     "output_type": "stream",
     "text": [
      "Moviepy - Done !\n",
      "Moviepy - video ready /content/videos/rl-video-episode-48.mp4\n"
     ]
    },
    {
     "name": "stderr",
     "output_type": "stream",
     "text": [
      "\r"
     ]
    },
    {
     "name": "stdout",
     "output_type": "stream",
     "text": [
      "Moviepy - Building video /content/videos/rl-video-episode-49.mp4.\n",
      "Moviepy - Writing video /content/videos/rl-video-episode-49.mp4\n",
      "\n"
     ]
    },
    {
     "name": "stderr",
     "output_type": "stream",
     "text": [
      "                                                   "
     ]
    },
    {
     "name": "stdout",
     "output_type": "stream",
     "text": [
      "Moviepy - Done !\n",
      "Moviepy - video ready /content/videos/rl-video-episode-49.mp4\n"
     ]
    },
    {
     "name": "stderr",
     "output_type": "stream",
     "text": [
      "\r"
     ]
    }
   ],
   "source": [
    "# record sessions\n",
    "from gymnasium.wrappers import RecordVideo\n",
    "\n",
    "with make_env() as env, RecordVideo(\n",
    "    env=env, video_folder=\"./videos\", episode_trigger=lambda episode_number: True\n",
    ") as env_monitor:\n",
    "    sessions = [\n",
    "        evaluate(env_monitor, agent, n_games=n_lives, greedy=True) for _ in range(10)\n",
    "    ]\n"
   ]
  },
  {
   "cell_type": "code",
   "execution_count": 46,
   "metadata": {
    "colab": {
     "base_uri": "https://localhost:8080/",
     "height": 556
    },
    "id": "lt6xg1n_soUH",
    "outputId": "a7629a98-9fdf-45b0-a3db-f848af685184"
   },
   "outputs": [
    {
     "name": "stderr",
     "output_type": "stream",
     "text": [
      "/usr/local/lib/python3.10/dist-packages/ipykernel/ipkernel.py:283: DeprecationWarning: `should_run_async` will not call `transform_cell` automatically in the future. Please pass the result to `transformed_cell` argument and any exception that happen during thetransform in `preprocessing_exc_tuple` in IPython 7.17 and above.\n",
      "  and should_run_async(code)\n"
     ]
    },
    {
     "data": {
      "text/html": [
       "\n",
       "<video width=\"640\" height=\"480\" controls>\n",
       "  <source src=\"data:video/mp4;base64,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\" type=\"video/mp4\">\n",
       "</video>\n"
      ],
      "text/plain": [
       "<IPython.core.display.HTML object>"
      ]
     },
     "execution_count": 46,
     "metadata": {},
     "output_type": "execute_result"
    }
   ],
   "source": [
    "# Show video. This may not work in some setups. If it doesn't\n",
    "# work for you, you can download the videos and view them locally.\n",
    "\n",
    "from pathlib import Path\n",
    "from base64 import b64encode\n",
    "from IPython.display import HTML\n",
    "\n",
    "video_paths = sorted([s for s in Path('videos').iterdir() if s.suffix == '.mp4'])\n",
    "video_path = video_paths[-1]  # You can also try other indices\n",
    "\n",
    "if 'google.colab' in sys.modules:\n",
    "    # https://stackoverflow.com/a/57378660/1214547\n",
    "    with video_path.open('rb') as fp:\n",
    "        mp4 = fp.read()\n",
    "    data_url = 'data:video/mp4;base64,' + b64encode(mp4).decode()\n",
    "else:\n",
    "    data_url = str(video_path)\n",
    "\n",
    "HTML(\"\"\"\n",
    "<video width=\"640\" height=\"480\" controls>\n",
    "  <source src=\"{}\" type=\"video/mp4\">\n",
    "</video>\n",
    "\"\"\".format(data_url))"
   ]
  },
  {
   "cell_type": "markdown",
   "metadata": {
    "id": "fLPx2aI7soUH"
   },
   "source": [
    "## Let's have a closer look at this.\n",
    "\n",
    "If average episode score is below 200 using all 5 lives, then probably DQN has not converged fully. But anyway let's make a more complete record of an episode."
   ]
  },
  {
   "cell_type": "code",
   "execution_count": 47,
   "metadata": {
    "colab": {
     "base_uri": "https://localhost:8080/"
    },
    "id": "Q9hjXI6WsoUH",
    "outputId": "85362257-6d62-445e-93e4-b4d91e306234"
   },
   "outputs": [
    {
     "name": "stdout",
     "output_type": "stream",
     "text": [
      "total reward for life: 5.0\n",
      "states\n",
      "v_mc\n",
      "v_agent\n",
      "q_spreads\n",
      "td_errors\n",
      "rewards\n",
      "episode_finished\n"
     ]
    }
   ],
   "source": [
    "eval_env = make_env(clip_rewards=False)\n",
    "record = utils.play_and_log_episode(eval_env, agent)\n",
    "print('total reward for life:', np.sum(record['rewards']))\n",
    "for key in record:\n",
    "    print(key)"
   ]
  },
  {
   "cell_type": "code",
   "execution_count": 48,
   "metadata": {
    "colab": {
     "base_uri": "https://localhost:8080/",
     "height": 487
    },
    "id": "HD10tYWgsoUH",
    "outputId": "9797bd05-4167-49ec-fb37-d48bd92d71ec"
   },
   "outputs": [
    {
     "data": {
      "image/png": "[encoded data removed]",
      "text/plain": [
       "<Figure size 500x500 with 1 Axes>"
      ]
     },
     "metadata": {},
     "output_type": "display_data"
    }
   ],
   "source": [
    "fig = plt.figure(figsize=(5, 5))\n",
    "ax = fig.add_subplot(1, 1, 1)\n",
    "\n",
    "ax.scatter(record['v_mc'], record['v_agent'])\n",
    "ax.plot(sorted(record['v_mc']), sorted(record['v_mc']),\n",
    "       'black', linestyle='--', label='x=y')\n",
    "\n",
    "ax.grid()\n",
    "ax.legend()\n",
    "ax.set_title('State Value Estimates')\n",
    "ax.set_xlabel('Monte-Carlo')\n",
    "ax.set_ylabel('Agent')\n",
    "\n",
    "plt.show()"
   ]
  },
  {
   "cell_type": "markdown",
   "metadata": {
    "id": "_j3Sopf0soUH"
   },
   "source": [
    "$\\hat V_{Monte-Carlo}(s_t) = \\sum_{\\tau=0}^{episode~end} \\gamma^{\\tau-t}r_t$"
   ]
  },
  {
   "cell_type": "markdown",
   "metadata": {
    "id": "46yLblzXsoUH"
   },
   "source": [
    "Is there a big bias? It's ok, anyway it works."
   ]
  },
  {
   "cell_type": "markdown",
   "metadata": {
    "id": "FjKayU39soUH"
   },
   "source": [
    "## Bonus I (2 pts)"
   ]
  },
  {
   "cell_type": "markdown",
   "metadata": {
    "id": "iUZPD4RUsoUH"
   },
   "source": [
    "**1.** Plot several (say 3) states with high and low spreads of Q estimate by actions i.e.\n",
    "$$\\max_a \\hat Q(s,a) - \\min_a \\hat Q(s,a)\\$$\n",
    "Please take those states from different episodes to make sure that the states are really different.\n",
    "\n",
    "What should high and low spread mean at least in the world of perfect Q-fucntions?\n",
    "\n",
    "Comment the states you like most.\n",
    "\n",
    "**2.** Plot several (say 3) states with high td-error and several states with high values of\n",
    "$$| \\hat V_{Monte-Carlo}(s) - \\hat V_{agent}(s)|,$$\n",
    "$$\\hat V_{agent}(s)=\\max_a \\hat Q(s,a).$$ Please take those states from different episodes to make sure that the states are really different. From what part (i.e. beginning, middle, end) of an episode did these states come from?\n",
    "\n",
    "Comment the states you like most."
   ]
  },
  {
   "cell_type": "code",
   "execution_count": null,
   "metadata": {
    "id": "se-cjDOasoUH"
   },
   "outputs": [],
   "source": [
    "from utils import play_and_log_episode, img_by_obs\n",
    "\n",
    "<YOUR CODE>"
   ]
  },
  {
   "cell_type": "markdown",
   "metadata": {
    "id": "e36bU0u8soUH"
   },
   "source": [
    "## Bonus II (1-5 pts). Get High Score!\n",
    "\n",
    "1 point to you for each 50 points of your agent. Truncated by 5 points. Starting with 50 points, **not** 50 + threshold.\n",
    "\n",
    "One way is to train for several days and use heavier hardware (why not actually).\n",
    "\n",
    "Another way is to apply modifications (see **Bonus III**)."
   ]
  },
  {
   "cell_type": "markdown",
   "metadata": {
    "id": "78e4nRoSsoUH"
   },
   "source": [
    "## Bonus III (2+ pts). Apply modifications to DQN.\n",
    "\n",
    "For inspiration see [Rainbow](https://arxiv.org/abs/1710.02298) - a version of q-learning that combines lots of them.\n",
    "\n",
    "Points for Bonus II and Bonus III fully stack. So if modified agent gets score 250+ you get 5 pts for Bonus II + points for modifications. If the final score is 40 then you get the points for modifications.\n",
    "\n",
    "\n",
    "Some modifications:\n",
    "* [Prioritized experience replay](https://arxiv.org/abs/1511.05952) (5 pts for your own implementation, 3 pts for using a ready one)\n",
    "* [double q-learning](https://arxiv.org/abs/1509.06461) (2 pts)\n",
    "* [dueling q-learning](https://arxiv.org/abs/1511.06581) (2 pts)\n",
    "* multi-step heuristics (see [Rainbow](https://arxiv.org/abs/1710.02298)) (3 pts)\n",
    "* [Noisy Nets](https://arxiv.org/abs/1706.10295) (3 pts)\n",
    "* [distributional RL](https://arxiv.org/abs/1707.06887)(distributional and distributed stand for different things here) (5 pts)\n",
    "* Other modifications (2+ pts depending on complexity)"
   ]
  },
  {
   "cell_type": "markdown",
   "metadata": {
    "id": "j_3RXboysoUH"
   },
   "source": [
    "## Bonus IV (4+ pts). Distributed RL.\n",
    "\n",
    "Solve the task in a distributed way. It can strongly speed up learning. See [article](https://arxiv.org/pdf/1602.01783.pdf) or some guides."
   ]
  },
  {
   "cell_type": "markdown",
   "metadata": {
    "id": "7RdBNRyfsoUH"
   },
   "source": [
    "**As usual bonus points for all the tasks fully stack.**"
   ]
  },
  {
   "cell_type": "code",
   "execution_count": null,
   "metadata": {
    "id": "f9X5aB56soUI"
   },
   "outputs": [],
   "source": []
  }
 ],
 "metadata": {
  "accelerator": "GPU",
  "colab": {
   "gpuType": "T4",
   "provenance": []
  },
  "kernelspec": {
   "display_name": "Python 3",
   "language": "python",
   "name": "python3"
  },
  "language_info": {
   "codemirror_mode": {
    "name": "ipython",
    "version": 3
   },
   "file_extension": ".py",
   "mimetype": "text/x-python",
   "name": "python",
   "nbconvert_exporter": "python",
   "pygments_lexer": "ipython3",
   "version": "3.8.5"
  }
 },
 "nbformat": 4,
 "nbformat_minor": 1
}
